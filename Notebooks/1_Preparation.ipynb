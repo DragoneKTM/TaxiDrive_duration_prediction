{
  "cells": [
    {
      "cell_type": "code",
      "execution_count": 5,
      "metadata": {
        "id": "Fyri7WsN-1Wz"
      },
      "outputs": [],
      "source": [
        "import pandas as pd\n",
        "import numpy as np\n",
        "import seaborn as sns\n",
        "import zipfile\n",
        "import os\n",
        "from matplotlib import pyplot\n",
        "import matplotlib.pyplot as plt\n",
        "import math\n",
        "from pyproj import Geod\n",
        "from geopy.geocoders import Nominatim\n",
        "import geopandas as gpd\n",
        "import fiona\n",
        "import descartes\n",
        "from shapely.geometry import Point, Polygon\n",
        "sns.set()"
      ]
    },
    {
      "cell_type": "code",
      "execution_count": 6,
      "metadata": {
        "id": "cd1a4qJZ-1W3"
      },
      "outputs": [],
      "source": [
        "#Dataset load\n",
        "ds_train = pd.read_csv(r'/train.zip' , compression=\"zip\")"
      ]
    },
    {
      "cell_type": "markdown",
      "metadata": {
        "id": "T60W6x-n-1W4"
      },
      "source": [
        "## Dataset description"
      ]
    },
    {
      "cell_type": "markdown",
      "metadata": {
        "id": "1AdRb9Ds-1W5"
      },
      "source": [
        "Data fields\n",
        "- id - a unique identifier for each trip\n",
        "- vendor_id - a code indicating the provider associated with the trip record\n",
        "- pickup_datetime - date and time when the meter was engaged\n",
        "- dropoff_datetime - date and time when the meter was disengaged\n",
        "- passenger_count - the number of passengers in the vehicle (driver entered value)\n",
        "- pickup_longitude - the longitude where the meter was engaged\n",
        "- pickup_latitude - the latitude where the meter was engaged\n",
        "- dropoff_longitude - the longitude where the meter was disengaged\n",
        "- dropoff_latitude - the latitude where the meter was disengaged\n",
        "- store_and_fwd_flag - This flag indicates whether the trip record was held in vehicle memory before sending to the vendor because the vehicle did not have a connection to the server -  Y=store and forward; N=not a store and forward trip\n",
        "- trip_duration - duration of the trip in seconds"
      ]
    },
    {
      "cell_type": "markdown",
      "metadata": {
        "id": "sHChP9-W-1W6"
      },
      "source": [
        "# Data exploration"
      ]
    },
    {
      "cell_type": "code",
      "execution_count": 7,
      "metadata": {
        "colab": {
          "base_uri": "https://localhost:8080/",
          "height": 206
        },
        "id": "Kr2b6jGi-1W7",
        "outputId": "b33c5679-d961-471b-ae16-e006b65e5b02"
      },
      "outputs": [
        {
          "output_type": "execute_result",
          "data": {
            "text/plain": [
              "          id  vendor_id      pickup_datetime     dropoff_datetime  \\\n",
              "0  id2875421          2  2016-03-14 17:24:55  2016-03-14 17:32:30   \n",
              "1  id2377394          1  2016-06-12 00:43:35  2016-06-12 00:54:38   \n",
              "2  id3858529          2  2016-01-19 11:35:24  2016-01-19 12:10:48   \n",
              "3  id3504673          2  2016-04-06 19:32:31  2016-04-06 19:39:40   \n",
              "4  id2181028          2  2016-03-26 13:30:55  2016-03-26 13:38:10   \n",
              "\n",
              "   passenger_count  pickup_longitude  pickup_latitude  dropoff_longitude  \\\n",
              "0                1        -73.982155        40.767937         -73.964630   \n",
              "1                1        -73.980415        40.738564         -73.999481   \n",
              "2                1        -73.979027        40.763939         -74.005333   \n",
              "3                1        -74.010040        40.719971         -74.012268   \n",
              "4                1        -73.973053        40.793209         -73.972923   \n",
              "\n",
              "   dropoff_latitude store_and_fwd_flag  trip_duration  \n",
              "0         40.765602                  N            455  \n",
              "1         40.731152                  N            663  \n",
              "2         40.710087                  N           2124  \n",
              "3         40.706718                  N            429  \n",
              "4         40.782520                  N            435  "
            ],
            "text/html": [
              "\n",
              "  <div id=\"df-4267d06d-4395-4e67-9c1f-32c3488df9c4\">\n",
              "    <div class=\"colab-df-container\">\n",
              "      <div>\n",
              "<style scoped>\n",
              "    .dataframe tbody tr th:only-of-type {\n",
              "        vertical-align: middle;\n",
              "    }\n",
              "\n",
              "    .dataframe tbody tr th {\n",
              "        vertical-align: top;\n",
              "    }\n",
              "\n",
              "    .dataframe thead th {\n",
              "        text-align: right;\n",
              "    }\n",
              "</style>\n",
              "<table border=\"1\" class=\"dataframe\">\n",
              "  <thead>\n",
              "    <tr style=\"text-align: right;\">\n",
              "      <th></th>\n",
              "      <th>id</th>\n",
              "      <th>vendor_id</th>\n",
              "      <th>pickup_datetime</th>\n",
              "      <th>dropoff_datetime</th>\n",
              "      <th>passenger_count</th>\n",
              "      <th>pickup_longitude</th>\n",
              "      <th>pickup_latitude</th>\n",
              "      <th>dropoff_longitude</th>\n",
              "      <th>dropoff_latitude</th>\n",
              "      <th>store_and_fwd_flag</th>\n",
              "      <th>trip_duration</th>\n",
              "    </tr>\n",
              "  </thead>\n",
              "  <tbody>\n",
              "    <tr>\n",
              "      <th>0</th>\n",
              "      <td>id2875421</td>\n",
              "      <td>2</td>\n",
              "      <td>2016-03-14 17:24:55</td>\n",
              "      <td>2016-03-14 17:32:30</td>\n",
              "      <td>1</td>\n",
              "      <td>-73.982155</td>\n",
              "      <td>40.767937</td>\n",
              "      <td>-73.964630</td>\n",
              "      <td>40.765602</td>\n",
              "      <td>N</td>\n",
              "      <td>455</td>\n",
              "    </tr>\n",
              "    <tr>\n",
              "      <th>1</th>\n",
              "      <td>id2377394</td>\n",
              "      <td>1</td>\n",
              "      <td>2016-06-12 00:43:35</td>\n",
              "      <td>2016-06-12 00:54:38</td>\n",
              "      <td>1</td>\n",
              "      <td>-73.980415</td>\n",
              "      <td>40.738564</td>\n",
              "      <td>-73.999481</td>\n",
              "      <td>40.731152</td>\n",
              "      <td>N</td>\n",
              "      <td>663</td>\n",
              "    </tr>\n",
              "    <tr>\n",
              "      <th>2</th>\n",
              "      <td>id3858529</td>\n",
              "      <td>2</td>\n",
              "      <td>2016-01-19 11:35:24</td>\n",
              "      <td>2016-01-19 12:10:48</td>\n",
              "      <td>1</td>\n",
              "      <td>-73.979027</td>\n",
              "      <td>40.763939</td>\n",
              "      <td>-74.005333</td>\n",
              "      <td>40.710087</td>\n",
              "      <td>N</td>\n",
              "      <td>2124</td>\n",
              "    </tr>\n",
              "    <tr>\n",
              "      <th>3</th>\n",
              "      <td>id3504673</td>\n",
              "      <td>2</td>\n",
              "      <td>2016-04-06 19:32:31</td>\n",
              "      <td>2016-04-06 19:39:40</td>\n",
              "      <td>1</td>\n",
              "      <td>-74.010040</td>\n",
              "      <td>40.719971</td>\n",
              "      <td>-74.012268</td>\n",
              "      <td>40.706718</td>\n",
              "      <td>N</td>\n",
              "      <td>429</td>\n",
              "    </tr>\n",
              "    <tr>\n",
              "      <th>4</th>\n",
              "      <td>id2181028</td>\n",
              "      <td>2</td>\n",
              "      <td>2016-03-26 13:30:55</td>\n",
              "      <td>2016-03-26 13:38:10</td>\n",
              "      <td>1</td>\n",
              "      <td>-73.973053</td>\n",
              "      <td>40.793209</td>\n",
              "      <td>-73.972923</td>\n",
              "      <td>40.782520</td>\n",
              "      <td>N</td>\n",
              "      <td>435</td>\n",
              "    </tr>\n",
              "  </tbody>\n",
              "</table>\n",
              "</div>\n",
              "      <button class=\"colab-df-convert\" onclick=\"convertToInteractive('df-4267d06d-4395-4e67-9c1f-32c3488df9c4')\"\n",
              "              title=\"Convert this dataframe to an interactive table.\"\n",
              "              style=\"display:none;\">\n",
              "        \n",
              "  <svg xmlns=\"http://www.w3.org/2000/svg\" height=\"24px\"viewBox=\"0 0 24 24\"\n",
              "       width=\"24px\">\n",
              "    <path d=\"M0 0h24v24H0V0z\" fill=\"none\"/>\n",
              "    <path d=\"M18.56 5.44l.94 2.06.94-2.06 2.06-.94-2.06-.94-.94-2.06-.94 2.06-2.06.94zm-11 1L8.5 8.5l.94-2.06 2.06-.94-2.06-.94L8.5 2.5l-.94 2.06-2.06.94zm10 10l.94 2.06.94-2.06 2.06-.94-2.06-.94-.94-2.06-.94 2.06-2.06.94z\"/><path d=\"M17.41 7.96l-1.37-1.37c-.4-.4-.92-.59-1.43-.59-.52 0-1.04.2-1.43.59L10.3 9.45l-7.72 7.72c-.78.78-.78 2.05 0 2.83L4 21.41c.39.39.9.59 1.41.59.51 0 1.02-.2 1.41-.59l7.78-7.78 2.81-2.81c.8-.78.8-2.07 0-2.86zM5.41 20L4 18.59l7.72-7.72 1.47 1.35L5.41 20z\"/>\n",
              "  </svg>\n",
              "      </button>\n",
              "      \n",
              "  <style>\n",
              "    .colab-df-container {\n",
              "      display:flex;\n",
              "      flex-wrap:wrap;\n",
              "      gap: 12px;\n",
              "    }\n",
              "\n",
              "    .colab-df-convert {\n",
              "      background-color: #E8F0FE;\n",
              "      border: none;\n",
              "      border-radius: 50%;\n",
              "      cursor: pointer;\n",
              "      display: none;\n",
              "      fill: #1967D2;\n",
              "      height: 32px;\n",
              "      padding: 0 0 0 0;\n",
              "      width: 32px;\n",
              "    }\n",
              "\n",
              "    .colab-df-convert:hover {\n",
              "      background-color: #E2EBFA;\n",
              "      box-shadow: 0px 1px 2px rgba(60, 64, 67, 0.3), 0px 1px 3px 1px rgba(60, 64, 67, 0.15);\n",
              "      fill: #174EA6;\n",
              "    }\n",
              "\n",
              "    [theme=dark] .colab-df-convert {\n",
              "      background-color: #3B4455;\n",
              "      fill: #D2E3FC;\n",
              "    }\n",
              "\n",
              "    [theme=dark] .colab-df-convert:hover {\n",
              "      background-color: #434B5C;\n",
              "      box-shadow: 0px 1px 3px 1px rgba(0, 0, 0, 0.15);\n",
              "      filter: drop-shadow(0px 1px 2px rgba(0, 0, 0, 0.3));\n",
              "      fill: #FFFFFF;\n",
              "    }\n",
              "  </style>\n",
              "\n",
              "      <script>\n",
              "        const buttonEl =\n",
              "          document.querySelector('#df-4267d06d-4395-4e67-9c1f-32c3488df9c4 button.colab-df-convert');\n",
              "        buttonEl.style.display =\n",
              "          google.colab.kernel.accessAllowed ? 'block' : 'none';\n",
              "\n",
              "        async function convertToInteractive(key) {\n",
              "          const element = document.querySelector('#df-4267d06d-4395-4e67-9c1f-32c3488df9c4');\n",
              "          const dataTable =\n",
              "            await google.colab.kernel.invokeFunction('convertToInteractive',\n",
              "                                                     [key], {});\n",
              "          if (!dataTable) return;\n",
              "\n",
              "          const docLinkHtml = 'Like what you see? Visit the ' +\n",
              "            '<a target=\"_blank\" href=https://colab.research.google.com/notebooks/data_table.ipynb>data table notebook</a>'\n",
              "            + ' to learn more about interactive tables.';\n",
              "          element.innerHTML = '';\n",
              "          dataTable['output_type'] = 'display_data';\n",
              "          await google.colab.output.renderOutput(dataTable, element);\n",
              "          const docLink = document.createElement('div');\n",
              "          docLink.innerHTML = docLinkHtml;\n",
              "          element.appendChild(docLink);\n",
              "        }\n",
              "      </script>\n",
              "    </div>\n",
              "  </div>\n",
              "  "
            ]
          },
          "metadata": {},
          "execution_count": 7
        }
      ],
      "source": [
        "ds_train.head()"
      ]
    },
    {
      "cell_type": "code",
      "execution_count": 8,
      "metadata": {
        "colab": {
          "base_uri": "https://localhost:8080/"
        },
        "id": "op-qo8uq-1W8",
        "outputId": "72910032-c0c2-41c6-ed2d-b5364f3cb380"
      },
      "outputs": [
        {
          "output_type": "execute_result",
          "data": {
            "text/plain": [
              "(1458644, 11)"
            ]
          },
          "metadata": {},
          "execution_count": 8
        }
      ],
      "source": [
        "ds_train.shape"
      ]
    },
    {
      "cell_type": "markdown",
      "metadata": {
        "id": "iUkfN4UV-1W9"
      },
      "source": [
        "Dataset dimentions: 1458644 row, 11 attributes"
      ]
    },
    {
      "cell_type": "code",
      "execution_count": 9,
      "metadata": {
        "colab": {
          "base_uri": "https://localhost:8080/"
        },
        "id": "VsNvSIaL-1W-",
        "outputId": "ce2e23de-0cd4-48fe-8ad6-7c3655204593"
      },
      "outputs": [
        {
          "output_type": "stream",
          "name": "stdout",
          "text": [
            "<class 'pandas.core.frame.DataFrame'>\n",
            "RangeIndex: 1458644 entries, 0 to 1458643\n",
            "Data columns (total 11 columns):\n",
            " #   Column              Non-Null Count    Dtype  \n",
            "---  ------              --------------    -----  \n",
            " 0   id                  1458644 non-null  object \n",
            " 1   vendor_id           1458644 non-null  int64  \n",
            " 2   pickup_datetime     1458644 non-null  object \n",
            " 3   dropoff_datetime    1458644 non-null  object \n",
            " 4   passenger_count     1458644 non-null  int64  \n",
            " 5   pickup_longitude    1458644 non-null  float64\n",
            " 6   pickup_latitude     1458644 non-null  float64\n",
            " 7   dropoff_longitude   1458644 non-null  float64\n",
            " 8   dropoff_latitude    1458644 non-null  float64\n",
            " 9   store_and_fwd_flag  1458644 non-null  object \n",
            " 10  trip_duration       1458644 non-null  int64  \n",
            "dtypes: float64(4), int64(3), object(4)\n",
            "memory usage: 122.4+ MB\n"
          ]
        }
      ],
      "source": [
        "ds_train.info()"
      ]
    },
    {
      "cell_type": "code",
      "execution_count": 10,
      "metadata": {
        "colab": {
          "base_uri": "https://localhost:8080/",
          "height": 300
        },
        "id": "Oqj4mBEn-1W_",
        "outputId": "4c1f711f-accd-4265-d9b4-984e95714389"
      },
      "outputs": [
        {
          "output_type": "execute_result",
          "data": {
            "text/plain": [
              "          vendor_id  passenger_count  pickup_longitude  pickup_latitude  \\\n",
              "count  1.458644e+06     1.458644e+06      1.458644e+06     1.458644e+06   \n",
              "mean   1.534950e+00     1.664530e+00     -7.397349e+01     4.075092e+01   \n",
              "std    4.987772e-01     1.314242e+00      7.090186e-02     3.288119e-02   \n",
              "min    1.000000e+00     0.000000e+00     -1.219333e+02     3.435970e+01   \n",
              "25%    1.000000e+00     1.000000e+00     -7.399187e+01     4.073735e+01   \n",
              "50%    2.000000e+00     1.000000e+00     -7.398174e+01     4.075410e+01   \n",
              "75%    2.000000e+00     2.000000e+00     -7.396733e+01     4.076836e+01   \n",
              "max    2.000000e+00     9.000000e+00     -6.133553e+01     5.188108e+01   \n",
              "\n",
              "       dropoff_longitude  dropoff_latitude  trip_duration  \n",
              "count       1.458644e+06      1.458644e+06   1.458644e+06  \n",
              "mean       -7.397342e+01      4.075180e+01   9.594923e+02  \n",
              "std         7.064327e-02      3.589056e-02   5.237432e+03  \n",
              "min        -1.219333e+02      3.218114e+01   1.000000e+00  \n",
              "25%        -7.399133e+01      4.073588e+01   3.970000e+02  \n",
              "50%        -7.397975e+01      4.075452e+01   6.620000e+02  \n",
              "75%        -7.396301e+01      4.076981e+01   1.075000e+03  \n",
              "max        -6.133553e+01      4.392103e+01   3.526282e+06  "
            ],
            "text/html": [
              "\n",
              "  <div id=\"df-66592476-7577-48bd-b6fe-59bac059de7b\">\n",
              "    <div class=\"colab-df-container\">\n",
              "      <div>\n",
              "<style scoped>\n",
              "    .dataframe tbody tr th:only-of-type {\n",
              "        vertical-align: middle;\n",
              "    }\n",
              "\n",
              "    .dataframe tbody tr th {\n",
              "        vertical-align: top;\n",
              "    }\n",
              "\n",
              "    .dataframe thead th {\n",
              "        text-align: right;\n",
              "    }\n",
              "</style>\n",
              "<table border=\"1\" class=\"dataframe\">\n",
              "  <thead>\n",
              "    <tr style=\"text-align: right;\">\n",
              "      <th></th>\n",
              "      <th>vendor_id</th>\n",
              "      <th>passenger_count</th>\n",
              "      <th>pickup_longitude</th>\n",
              "      <th>pickup_latitude</th>\n",
              "      <th>dropoff_longitude</th>\n",
              "      <th>dropoff_latitude</th>\n",
              "      <th>trip_duration</th>\n",
              "    </tr>\n",
              "  </thead>\n",
              "  <tbody>\n",
              "    <tr>\n",
              "      <th>count</th>\n",
              "      <td>1.458644e+06</td>\n",
              "      <td>1.458644e+06</td>\n",
              "      <td>1.458644e+06</td>\n",
              "      <td>1.458644e+06</td>\n",
              "      <td>1.458644e+06</td>\n",
              "      <td>1.458644e+06</td>\n",
              "      <td>1.458644e+06</td>\n",
              "    </tr>\n",
              "    <tr>\n",
              "      <th>mean</th>\n",
              "      <td>1.534950e+00</td>\n",
              "      <td>1.664530e+00</td>\n",
              "      <td>-7.397349e+01</td>\n",
              "      <td>4.075092e+01</td>\n",
              "      <td>-7.397342e+01</td>\n",
              "      <td>4.075180e+01</td>\n",
              "      <td>9.594923e+02</td>\n",
              "    </tr>\n",
              "    <tr>\n",
              "      <th>std</th>\n",
              "      <td>4.987772e-01</td>\n",
              "      <td>1.314242e+00</td>\n",
              "      <td>7.090186e-02</td>\n",
              "      <td>3.288119e-02</td>\n",
              "      <td>7.064327e-02</td>\n",
              "      <td>3.589056e-02</td>\n",
              "      <td>5.237432e+03</td>\n",
              "    </tr>\n",
              "    <tr>\n",
              "      <th>min</th>\n",
              "      <td>1.000000e+00</td>\n",
              "      <td>0.000000e+00</td>\n",
              "      <td>-1.219333e+02</td>\n",
              "      <td>3.435970e+01</td>\n",
              "      <td>-1.219333e+02</td>\n",
              "      <td>3.218114e+01</td>\n",
              "      <td>1.000000e+00</td>\n",
              "    </tr>\n",
              "    <tr>\n",
              "      <th>25%</th>\n",
              "      <td>1.000000e+00</td>\n",
              "      <td>1.000000e+00</td>\n",
              "      <td>-7.399187e+01</td>\n",
              "      <td>4.073735e+01</td>\n",
              "      <td>-7.399133e+01</td>\n",
              "      <td>4.073588e+01</td>\n",
              "      <td>3.970000e+02</td>\n",
              "    </tr>\n",
              "    <tr>\n",
              "      <th>50%</th>\n",
              "      <td>2.000000e+00</td>\n",
              "      <td>1.000000e+00</td>\n",
              "      <td>-7.398174e+01</td>\n",
              "      <td>4.075410e+01</td>\n",
              "      <td>-7.397975e+01</td>\n",
              "      <td>4.075452e+01</td>\n",
              "      <td>6.620000e+02</td>\n",
              "    </tr>\n",
              "    <tr>\n",
              "      <th>75%</th>\n",
              "      <td>2.000000e+00</td>\n",
              "      <td>2.000000e+00</td>\n",
              "      <td>-7.396733e+01</td>\n",
              "      <td>4.076836e+01</td>\n",
              "      <td>-7.396301e+01</td>\n",
              "      <td>4.076981e+01</td>\n",
              "      <td>1.075000e+03</td>\n",
              "    </tr>\n",
              "    <tr>\n",
              "      <th>max</th>\n",
              "      <td>2.000000e+00</td>\n",
              "      <td>9.000000e+00</td>\n",
              "      <td>-6.133553e+01</td>\n",
              "      <td>5.188108e+01</td>\n",
              "      <td>-6.133553e+01</td>\n",
              "      <td>4.392103e+01</td>\n",
              "      <td>3.526282e+06</td>\n",
              "    </tr>\n",
              "  </tbody>\n",
              "</table>\n",
              "</div>\n",
              "      <button class=\"colab-df-convert\" onclick=\"convertToInteractive('df-66592476-7577-48bd-b6fe-59bac059de7b')\"\n",
              "              title=\"Convert this dataframe to an interactive table.\"\n",
              "              style=\"display:none;\">\n",
              "        \n",
              "  <svg xmlns=\"http://www.w3.org/2000/svg\" height=\"24px\"viewBox=\"0 0 24 24\"\n",
              "       width=\"24px\">\n",
              "    <path d=\"M0 0h24v24H0V0z\" fill=\"none\"/>\n",
              "    <path d=\"M18.56 5.44l.94 2.06.94-2.06 2.06-.94-2.06-.94-.94-2.06-.94 2.06-2.06.94zm-11 1L8.5 8.5l.94-2.06 2.06-.94-2.06-.94L8.5 2.5l-.94 2.06-2.06.94zm10 10l.94 2.06.94-2.06 2.06-.94-2.06-.94-.94-2.06-.94 2.06-2.06.94z\"/><path d=\"M17.41 7.96l-1.37-1.37c-.4-.4-.92-.59-1.43-.59-.52 0-1.04.2-1.43.59L10.3 9.45l-7.72 7.72c-.78.78-.78 2.05 0 2.83L4 21.41c.39.39.9.59 1.41.59.51 0 1.02-.2 1.41-.59l7.78-7.78 2.81-2.81c.8-.78.8-2.07 0-2.86zM5.41 20L4 18.59l7.72-7.72 1.47 1.35L5.41 20z\"/>\n",
              "  </svg>\n",
              "      </button>\n",
              "      \n",
              "  <style>\n",
              "    .colab-df-container {\n",
              "      display:flex;\n",
              "      flex-wrap:wrap;\n",
              "      gap: 12px;\n",
              "    }\n",
              "\n",
              "    .colab-df-convert {\n",
              "      background-color: #E8F0FE;\n",
              "      border: none;\n",
              "      border-radius: 50%;\n",
              "      cursor: pointer;\n",
              "      display: none;\n",
              "      fill: #1967D2;\n",
              "      height: 32px;\n",
              "      padding: 0 0 0 0;\n",
              "      width: 32px;\n",
              "    }\n",
              "\n",
              "    .colab-df-convert:hover {\n",
              "      background-color: #E2EBFA;\n",
              "      box-shadow: 0px 1px 2px rgba(60, 64, 67, 0.3), 0px 1px 3px 1px rgba(60, 64, 67, 0.15);\n",
              "      fill: #174EA6;\n",
              "    }\n",
              "\n",
              "    [theme=dark] .colab-df-convert {\n",
              "      background-color: #3B4455;\n",
              "      fill: #D2E3FC;\n",
              "    }\n",
              "\n",
              "    [theme=dark] .colab-df-convert:hover {\n",
              "      background-color: #434B5C;\n",
              "      box-shadow: 0px 1px 3px 1px rgba(0, 0, 0, 0.15);\n",
              "      filter: drop-shadow(0px 1px 2px rgba(0, 0, 0, 0.3));\n",
              "      fill: #FFFFFF;\n",
              "    }\n",
              "  </style>\n",
              "\n",
              "      <script>\n",
              "        const buttonEl =\n",
              "          document.querySelector('#df-66592476-7577-48bd-b6fe-59bac059de7b button.colab-df-convert');\n",
              "        buttonEl.style.display =\n",
              "          google.colab.kernel.accessAllowed ? 'block' : 'none';\n",
              "\n",
              "        async function convertToInteractive(key) {\n",
              "          const element = document.querySelector('#df-66592476-7577-48bd-b6fe-59bac059de7b');\n",
              "          const dataTable =\n",
              "            await google.colab.kernel.invokeFunction('convertToInteractive',\n",
              "                                                     [key], {});\n",
              "          if (!dataTable) return;\n",
              "\n",
              "          const docLinkHtml = 'Like what you see? Visit the ' +\n",
              "            '<a target=\"_blank\" href=https://colab.research.google.com/notebooks/data_table.ipynb>data table notebook</a>'\n",
              "            + ' to learn more about interactive tables.';\n",
              "          element.innerHTML = '';\n",
              "          dataTable['output_type'] = 'display_data';\n",
              "          await google.colab.output.renderOutput(dataTable, element);\n",
              "          const docLink = document.createElement('div');\n",
              "          docLink.innerHTML = docLinkHtml;\n",
              "          element.appendChild(docLink);\n",
              "        }\n",
              "      </script>\n",
              "    </div>\n",
              "  </div>\n",
              "  "
            ]
          },
          "metadata": {},
          "execution_count": 10
        }
      ],
      "source": [
        "ds_train.describe()"
      ]
    },
    {
      "cell_type": "code",
      "execution_count": 11,
      "metadata": {
        "id": "Y7ANkAFZ-1W_"
      },
      "outputs": [],
      "source": [
        "#to_datetime columns\n",
        "ds_train['pickup_datetime'] = pd.to_datetime(ds_train.pickup_datetime)\n",
        "ds_train['dropoff_datetime'] = pd.to_datetime(ds_train.dropoff_datetime)\n",
        "ds_train.loc[:, 'pickup_date'] = ds_train['pickup_datetime'].dt.date"
      ]
    },
    {
      "cell_type": "code",
      "execution_count": 12,
      "metadata": {
        "id": "7ouk8MTB-1XA"
      },
      "outputs": [],
      "source": [
        "#add columns to split datetimes\n",
        "ds_train['month_pickup'] = [date.month for date in ds_train.pickup_datetime]\n",
        "ds_train['day_pickup'] = [date.day for date in ds_train.pickup_datetime]\n",
        "ds_train['dow_pickup'] = [date.dayofweek for date in ds_train.pickup_datetime]\n",
        "ds_train['hour_pickup'] = [date.hour for date in ds_train.pickup_datetime]"
      ]
    },
    {
      "cell_type": "markdown",
      "metadata": {
        "id": "sKq0dN2BnJgT"
      },
      "source": [
        "#### Time period in analysis"
      ]
    },
    {
      "cell_type": "code",
      "execution_count": 13,
      "metadata": {
        "colab": {
          "base_uri": "https://localhost:8080/",
          "height": 285
        },
        "id": "hyQbFLRD-1XA",
        "outputId": "4ec1eb09-c199-4d45-9a6c-02f164c6e2d3"
      },
      "outputs": [
        {
          "output_type": "execute_result",
          "data": {
            "text/plain": [
              "[<matplotlib.lines.Line2D at 0x7f4330a57110>]"
            ]
          },
          "metadata": {},
          "execution_count": 13
        },
        {
          "output_type": "display_data",
          "data": {
            "text/plain": [
              "<Figure size 432x288 with 1 Axes>"
            ],
            "image/png": "[encoded data removed]"
          },
          "metadata": {}
        }
      ],
      "source": [
        "#time period in analysis\n",
        "pyplot.plot(ds_train.groupby(\"pickup_date\").count()[[\"vendor_id\"]])"
      ]
    },
    {
      "cell_type": "markdown",
      "metadata": {
        "id": "jzLVjuyN-1XA"
      },
      "source": [
        "Time period: 6 month, from 01-2016 to 07-2016<br>\n",
        "From this plot I can spot a deep decrease in the number of drives during late january"
      ]
    },
    {
      "cell_type": "code",
      "execution_count": 14,
      "metadata": {
        "id": "Tj1o0idIHI_I"
      },
      "outputs": [],
      "source": [
        "#from sec to min trip_duration\n",
        "ds_train['min_trip_duration'] = [sec//60 for sec in ds_train.trip_duration]"
      ]
    },
    {
      "cell_type": "markdown",
      "metadata": {
        "id": "d2IE-8SNnJgV"
      },
      "source": [
        "#### Time duration per day of the week"
      ]
    },
    {
      "cell_type": "code",
      "execution_count": 15,
      "metadata": {
        "colab": {
          "base_uri": "https://localhost:8080/",
          "height": 302
        },
        "id": "UUnIvqpw-1XB",
        "outputId": "39155c82-74d4-4eb5-c0d4-cc20fc94dedf"
      },
      "outputs": [
        {
          "output_type": "execute_result",
          "data": {
            "text/plain": [
              "<matplotlib.axes._subplots.AxesSubplot at 0x7f4330a6b090>"
            ]
          },
          "metadata": {},
          "execution_count": 15
        },
        {
          "output_type": "display_data",
          "data": {
            "text/plain": [
              "<Figure size 432x288 with 1 Axes>"
            ],
            "image/png": "[encoded data removed]"
          },
          "metadata": {}
        }
      ],
      "source": [
        "# bar plot of time duration in min per day\n",
        "sns.barplot(data=ds_train, y=\"trip_duration\", x=\"dow_pickup\")"
      ]
    },
    {
      "cell_type": "markdown",
      "metadata": {
        "id": "5QpPL9tM-1XB"
      },
      "source": [
        "Trip duration changes based on day of the week <br>\n",
        "Minor decrese during week end and monday"
      ]
    },
    {
      "cell_type": "markdown",
      "metadata": {
        "id": "hL_L75TWnJgW"
      },
      "source": [
        "#### Trip duration study"
      ]
    },
    {
      "cell_type": "code",
      "execution_count": 16,
      "metadata": {
        "colab": {
          "base_uri": "https://localhost:8080/",
          "height": 265
        },
        "id": "jYP_Xo7y-1XB",
        "outputId": "703d2995-c79a-4ca5-fd23-b6c12e1d8585"
      },
      "outputs": [
        {
          "output_type": "execute_result",
          "data": {
            "text/plain": [
              "<matplotlib.axes._subplots.AxesSubplot at 0x7f4330573f50>"
            ]
          },
          "metadata": {},
          "execution_count": 16
        },
        {
          "output_type": "display_data",
          "data": {
            "text/plain": [
              "<Figure size 432x288 with 1 Axes>"
            ],
            "image/png": "[encoded data removed]"
          },
          "metadata": {}
        }
      ],
      "source": [
        "# violin plot of distribution time duration in min\n",
        "sns.boxplot(y=ds_train[\"min_trip_duration\"])"
      ]
    },
    {
      "cell_type": "code",
      "execution_count": 17,
      "metadata": {
        "id": "OszqAk5RnJgW",
        "outputId": "93bbed75-a9c8-498c-fb2d-de2a9b194feb",
        "colab": {
          "base_uri": "https://localhost:8080/",
          "height": 302
        }
      },
      "outputs": [
        {
          "output_type": "execute_result",
          "data": {
            "text/plain": [
              "<matplotlib.axes._subplots.AxesSubplot at 0x7f43304ece10>"
            ]
          },
          "metadata": {},
          "execution_count": 17
        },
        {
          "output_type": "display_data",
          "data": {
            "text/plain": [
              "<Figure size 432x288 with 1 Axes>"
            ],
            "image/png": "[encoded data removed]"
          },
          "metadata": {}
        }
      ],
      "source": [
        "sns.histplot(data=ds_train, x=\"trip_duration\", bins=200, stat=\"probability\")"
      ]
    },
    {
      "cell_type": "markdown",
      "metadata": {
        "id": "yTG161NSHkiz"
      },
      "source": [
        "Outliers to remove"
      ]
    },
    {
      "cell_type": "code",
      "execution_count": 18,
      "metadata": {
        "id": "lWUwkC2wnJgY",
        "outputId": "4f10fdc3-d138-4a4e-c28e-c83948e0b6ea",
        "colab": {
          "base_uri": "https://localhost:8080/"
        }
      },
      "outputs": [
        {
          "output_type": "execute_result",
          "data": {
            "text/plain": [
              "1985"
            ]
          },
          "metadata": {},
          "execution_count": 18
        }
      ],
      "source": [
        "# number of trips that lasted more than 13 hours\n",
        "ds_train[ds_train[\"min_trip_duration\"]>(60*13)][\"id\"].count()"
      ]
    },
    {
      "cell_type": "markdown",
      "metadata": {
        "id": "EUaHHQXXnJgY"
      },
      "source": [
        "Since trips lasting longer than 13 hours constitute only 0.1% of the dataset (1985 rows), I will proceed to eliminate them"
      ]
    },
    {
      "cell_type": "code",
      "execution_count": 19,
      "metadata": {
        "id": "HAhHAwVlnJgY",
        "outputId": "0fdae986-03dd-49b6-908a-0e38874712d7",
        "colab": {
          "base_uri": "https://localhost:8080/"
        }
      },
      "outputs": [
        {
          "output_type": "execute_result",
          "data": {
            "text/plain": [
              "0.0014479201230732104"
            ]
          },
          "metadata": {},
          "execution_count": 19
        }
      ],
      "source": [
        "# percentage of records with duration longer then 2hrs\n",
        "ds_train[ds_train[\"min_trip_duration\"]>=180][\"id\"].count() / ds_train[\"id\"].count()"
      ]
    },
    {
      "cell_type": "markdown",
      "metadata": {
        "id": "AXDuDAU2nJgZ"
      },
      "source": [
        "Since the number of records with time duration more than 2hrs is insignificant (0.1 %) I will proceed with the removal"
      ]
    },
    {
      "cell_type": "markdown",
      "metadata": {
        "id": "CGW-V4LpnJgZ"
      },
      "source": [
        "#### Number of passengers study"
      ]
    },
    {
      "cell_type": "code",
      "execution_count": 20,
      "metadata": {
        "id": "uGfIpFFKnJgZ",
        "outputId": "1a5a6ded-633e-4176-acc3-b3d3429a3f15",
        "colab": {
          "base_uri": "https://localhost:8080/",
          "height": 302
        }
      },
      "outputs": [
        {
          "output_type": "execute_result",
          "data": {
            "text/plain": [
              "<matplotlib.axes._subplots.AxesSubplot at 0x7f4330594890>"
            ]
          },
          "metadata": {},
          "execution_count": 20
        },
        {
          "output_type": "display_data",
          "data": {
            "text/plain": [
              "<Figure size 432x288 with 1 Axes>"
            ],
            "image/png": "[encoded data removed]"
          },
          "metadata": {}
        }
      ],
      "source": [
        "#violin plot with trip duration in min and number of passengers\n",
        "sns.violinplot(y=ds_train[\"min_trip_duration\"], x=ds_train[\"passenger_count\"])"
      ]
    },
    {
      "cell_type": "markdown",
      "metadata": {
        "id": "svuTzW_4nJga"
      },
      "source": [
        "Wrong values (0 passengers)"
      ]
    },
    {
      "cell_type": "code",
      "execution_count": 21,
      "metadata": {
        "id": "7Zt8gLtgnJga",
        "outputId": "6b79b3af-c2ae-4614-ef45-9ca9fb865ab3",
        "colab": {
          "base_uri": "https://localhost:8080/"
        }
      },
      "outputs": [
        {
          "output_type": "execute_result",
          "data": {
            "text/plain": [
              "3.4278412004574113e-06"
            ]
          },
          "metadata": {},
          "execution_count": 21
        }
      ],
      "source": [
        "# percentage of records with more then 7 passengers\n",
        "ds_train[ds_train[\"passenger_count\"]>=7][\"id\"].count() / ds_train[\"id\"].count()"
      ]
    },
    {
      "cell_type": "markdown",
      "metadata": {
        "id": "HFRk0lB0nJga"
      },
      "source": [
        "Since the number of records with more than 6 passengers is insignificant (3^-4 %) I will proceed with the removal"
      ]
    },
    {
      "cell_type": "markdown",
      "metadata": {
        "id": "m9QaTNgwnJga"
      },
      "source": [
        "#### Study of pickup location"
      ]
    },
    {
      "cell_type": "code",
      "execution_count": 67,
      "metadata": {
        "id": "Su5nPg6NnJgb",
        "outputId": "ba50edac-3eab-47d7-9479-b451dab98ea7",
        "colab": {
          "base_uri": "https://localhost:8080/",
          "height": 206
        }
      },
      "outputs": [
        {
          "output_type": "execute_result",
          "data": {
            "text/plain": [
              "   BoroCode       BoroName     Shape_Leng    Shape_Area  \\\n",
              "0         5  Staten Island  330470.010332  1.623820e+09   \n",
              "1         4         Queens  896344.047763  3.045213e+09   \n",
              "2         3       Brooklyn  741080.523166  1.937479e+09   \n",
              "3         1      Manhattan  359299.096471  6.364715e+08   \n",
              "4         2          Bronx  464392.991824  1.186925e+09   \n",
              "\n",
              "                                            geometry  \n",
              "0  MULTIPOLYGON (((-74.05051 40.56642, -74.05047 ...  \n",
              "1  MULTIPOLYGON (((-73.83668 40.59495, -73.83678 ...  \n",
              "2  MULTIPOLYGON (((-73.86706 40.58209, -73.86769 ...  \n",
              "3  MULTIPOLYGON (((-74.01093 40.68449, -74.01193 ...  \n",
              "4  MULTIPOLYGON (((-73.89681 40.79581, -73.89694 ...  "
            ],
            "text/html": [
              "\n",
              "  <div id=\"df-f0fcd984-a2db-49e7-b1f3-902258fd7f80\">\n",
              "    <div class=\"colab-df-container\">\n",
              "      <div>\n",
              "<style scoped>\n",
              "    .dataframe tbody tr th:only-of-type {\n",
              "        vertical-align: middle;\n",
              "    }\n",
              "\n",
              "    .dataframe tbody tr th {\n",
              "        vertical-align: top;\n",
              "    }\n",
              "\n",
              "    .dataframe thead th {\n",
              "        text-align: right;\n",
              "    }\n",
              "</style>\n",
              "<table border=\"1\" class=\"dataframe\">\n",
              "  <thead>\n",
              "    <tr style=\"text-align: right;\">\n",
              "      <th></th>\n",
              "      <th>BoroCode</th>\n",
              "      <th>BoroName</th>\n",
              "      <th>Shape_Leng</th>\n",
              "      <th>Shape_Area</th>\n",
              "      <th>geometry</th>\n",
              "    </tr>\n",
              "  </thead>\n",
              "  <tbody>\n",
              "    <tr>\n",
              "      <th>0</th>\n",
              "      <td>5</td>\n",
              "      <td>Staten Island</td>\n",
              "      <td>330470.010332</td>\n",
              "      <td>1.623820e+09</td>\n",
              "      <td>MULTIPOLYGON (((-74.05051 40.56642, -74.05047 ...</td>\n",
              "    </tr>\n",
              "    <tr>\n",
              "      <th>1</th>\n",
              "      <td>4</td>\n",
              "      <td>Queens</td>\n",
              "      <td>896344.047763</td>\n",
              "      <td>3.045213e+09</td>\n",
              "      <td>MULTIPOLYGON (((-73.83668 40.59495, -73.83678 ...</td>\n",
              "    </tr>\n",
              "    <tr>\n",
              "      <th>2</th>\n",
              "      <td>3</td>\n",
              "      <td>Brooklyn</td>\n",
              "      <td>741080.523166</td>\n",
              "      <td>1.937479e+09</td>\n",
              "      <td>MULTIPOLYGON (((-73.86706 40.58209, -73.86769 ...</td>\n",
              "    </tr>\n",
              "    <tr>\n",
              "      <th>3</th>\n",
              "      <td>1</td>\n",
              "      <td>Manhattan</td>\n",
              "      <td>359299.096471</td>\n",
              "      <td>6.364715e+08</td>\n",
              "      <td>MULTIPOLYGON (((-74.01093 40.68449, -74.01193 ...</td>\n",
              "    </tr>\n",
              "    <tr>\n",
              "      <th>4</th>\n",
              "      <td>2</td>\n",
              "      <td>Bronx</td>\n",
              "      <td>464392.991824</td>\n",
              "      <td>1.186925e+09</td>\n",
              "      <td>MULTIPOLYGON (((-73.89681 40.79581, -73.89694 ...</td>\n",
              "    </tr>\n",
              "  </tbody>\n",
              "</table>\n",
              "</div>\n",
              "      <button class=\"colab-df-convert\" onclick=\"convertToInteractive('df-f0fcd984-a2db-49e7-b1f3-902258fd7f80')\"\n",
              "              title=\"Convert this dataframe to an interactive table.\"\n",
              "              style=\"display:none;\">\n",
              "        \n",
              "  <svg xmlns=\"http://www.w3.org/2000/svg\" height=\"24px\"viewBox=\"0 0 24 24\"\n",
              "       width=\"24px\">\n",
              "    <path d=\"M0 0h24v24H0V0z\" fill=\"none\"/>\n",
              "    <path d=\"M18.56 5.44l.94 2.06.94-2.06 2.06-.94-2.06-.94-.94-2.06-.94 2.06-2.06.94zm-11 1L8.5 8.5l.94-2.06 2.06-.94-2.06-.94L8.5 2.5l-.94 2.06-2.06.94zm10 10l.94 2.06.94-2.06 2.06-.94-2.06-.94-.94-2.06-.94 2.06-2.06.94z\"/><path d=\"M17.41 7.96l-1.37-1.37c-.4-.4-.92-.59-1.43-.59-.52 0-1.04.2-1.43.59L10.3 9.45l-7.72 7.72c-.78.78-.78 2.05 0 2.83L4 21.41c.39.39.9.59 1.41.59.51 0 1.02-.2 1.41-.59l7.78-7.78 2.81-2.81c.8-.78.8-2.07 0-2.86zM5.41 20L4 18.59l7.72-7.72 1.47 1.35L5.41 20z\"/>\n",
              "  </svg>\n",
              "      </button>\n",
              "      \n",
              "  <style>\n",
              "    .colab-df-container {\n",
              "      display:flex;\n",
              "      flex-wrap:wrap;\n",
              "      gap: 12px;\n",
              "    }\n",
              "\n",
              "    .colab-df-convert {\n",
              "      background-color: #E8F0FE;\n",
              "      border: none;\n",
              "      border-radius: 50%;\n",
              "      cursor: pointer;\n",
              "      display: none;\n",
              "      fill: #1967D2;\n",
              "      height: 32px;\n",
              "      padding: 0 0 0 0;\n",
              "      width: 32px;\n",
              "    }\n",
              "\n",
              "    .colab-df-convert:hover {\n",
              "      background-color: #E2EBFA;\n",
              "      box-shadow: 0px 1px 2px rgba(60, 64, 67, 0.3), 0px 1px 3px 1px rgba(60, 64, 67, 0.15);\n",
              "      fill: #174EA6;\n",
              "    }\n",
              "\n",
              "    [theme=dark] .colab-df-convert {\n",
              "      background-color: #3B4455;\n",
              "      fill: #D2E3FC;\n",
              "    }\n",
              "\n",
              "    [theme=dark] .colab-df-convert:hover {\n",
              "      background-color: #434B5C;\n",
              "      box-shadow: 0px 1px 3px 1px rgba(0, 0, 0, 0.15);\n",
              "      filter: drop-shadow(0px 1px 2px rgba(0, 0, 0, 0.3));\n",
              "      fill: #FFFFFF;\n",
              "    }\n",
              "  </style>\n",
              "\n",
              "      <script>\n",
              "        const buttonEl =\n",
              "          document.querySelector('#df-f0fcd984-a2db-49e7-b1f3-902258fd7f80 button.colab-df-convert');\n",
              "        buttonEl.style.display =\n",
              "          google.colab.kernel.accessAllowed ? 'block' : 'none';\n",
              "\n",
              "        async function convertToInteractive(key) {\n",
              "          const element = document.querySelector('#df-f0fcd984-a2db-49e7-b1f3-902258fd7f80');\n",
              "          const dataTable =\n",
              "            await google.colab.kernel.invokeFunction('convertToInteractive',\n",
              "                                                     [key], {});\n",
              "          if (!dataTable) return;\n",
              "\n",
              "          const docLinkHtml = 'Like what you see? Visit the ' +\n",
              "            '<a target=\"_blank\" href=https://colab.research.google.com/notebooks/data_table.ipynb>data table notebook</a>'\n",
              "            + ' to learn more about interactive tables.';\n",
              "          element.innerHTML = '';\n",
              "          dataTable['output_type'] = 'display_data';\n",
              "          await google.colab.output.renderOutput(dataTable, element);\n",
              "          const docLink = document.createElement('div');\n",
              "          docLink.innerHTML = docLinkHtml;\n",
              "          element.appendChild(docLink);\n",
              "        }\n",
              "      </script>\n",
              "    </div>\n",
              "  </div>\n",
              "  "
            ]
          },
          "metadata": {},
          "execution_count": 67
        }
      ],
      "source": [
        "#datasets geopandas inizialization\n",
        "crs = {'init':'EPSG:4326'}\n",
        "geometry = [Point(xy) for xy in zip(ds_train['pickup_longitude'], ds_train['pickup_latitude'])]\n",
        "geo_df = gpd.GeoDataFrame(ds_train, crs = crs, geometry = geometry)\n",
        "\n",
        "ny_bb = gpd.read_file(gpd.datasets.get_path('nybb'))\n",
        "ny_bb.to_crs(epsg=4326, inplace=True)\n",
        "ny_bb.head()"
      ]
    },
    {
      "cell_type": "markdown",
      "source": [
        "ny_bb is a geopandas dataset containing all ny boroughs "
      ],
      "metadata": {
        "id": "_tSrJrzItz8o"
      }
    },
    {
      "cell_type": "code",
      "source": [
        "geo_df.head()"
      ],
      "metadata": {
        "id": "OCRP4bCMtmHt",
        "outputId": "422d9484-7606-4d7c-9413-45b560795288",
        "colab": {
          "base_uri": "https://localhost:8080/",
          "height": 444
        }
      },
      "execution_count": 97,
      "outputs": [
        {
          "output_type": "execute_result",
          "data": {
            "text/plain": [
              "          id  vendor_id     pickup_datetime    dropoff_datetime  \\\n",
              "0  id2875421          2 2016-03-14 17:24:55 2016-03-14 17:32:30   \n",
              "1  id2377394          1 2016-06-12 00:43:35 2016-06-12 00:54:38   \n",
              "2  id3858529          2 2016-01-19 11:35:24 2016-01-19 12:10:48   \n",
              "3  id3504673          2 2016-04-06 19:32:31 2016-04-06 19:39:40   \n",
              "4  id2181028          2 2016-03-26 13:30:55 2016-03-26 13:38:10   \n",
              "\n",
              "   passenger_count  pickup_longitude  pickup_latitude  dropoff_longitude  \\\n",
              "0                1        -73.982155        40.767937         -73.964630   \n",
              "1                1        -73.980415        40.738564         -73.999481   \n",
              "2                1        -73.979027        40.763939         -74.005333   \n",
              "3                1        -74.010040        40.719971         -74.012268   \n",
              "4                1        -73.973053        40.793209         -73.972923   \n",
              "\n",
              "   dropoff_latitude store_and_fwd_flag  trip_duration pickup_date  \\\n",
              "0         40.765602                  N            455  2016-03-14   \n",
              "1         40.731152                  N            663  2016-06-12   \n",
              "2         40.710087                  N           2124  2016-01-19   \n",
              "3         40.706718                  N            429  2016-04-06   \n",
              "4         40.782520                  N            435  2016-03-26   \n",
              "\n",
              "   month_pickup  day_pickup  dow_pickup  hour_pickup  min_trip_duration  \\\n",
              "0             3          14           0           17                  7   \n",
              "1             6          12           6            0                 11   \n",
              "2             1          19           1           11                 35   \n",
              "3             4           6           2           19                  7   \n",
              "4             3          26           5           13                  7   \n",
              "\n",
              "                     geometry city  \n",
              "0  POINT (-73.98215 40.76794)    T  \n",
              "1  POINT (-73.98042 40.73856)    T  \n",
              "2  POINT (-73.97903 40.76394)    T  \n",
              "3  POINT (-74.01004 40.71997)    T  \n",
              "4  POINT (-73.97305 40.79321)    T  "
            ],
            "text/html": [
              "\n",
              "  <div id=\"df-65c01fe2-b387-4ada-83e6-0fa2e9bdd06e\">\n",
              "    <div class=\"colab-df-container\">\n",
              "      <div>\n",
              "<style scoped>\n",
              "    .dataframe tbody tr th:only-of-type {\n",
              "        vertical-align: middle;\n",
              "    }\n",
              "\n",
              "    .dataframe tbody tr th {\n",
              "        vertical-align: top;\n",
              "    }\n",
              "\n",
              "    .dataframe thead th {\n",
              "        text-align: right;\n",
              "    }\n",
              "</style>\n",
              "<table border=\"1\" class=\"dataframe\">\n",
              "  <thead>\n",
              "    <tr style=\"text-align: right;\">\n",
              "      <th></th>\n",
              "      <th>id</th>\n",
              "      <th>vendor_id</th>\n",
              "      <th>pickup_datetime</th>\n",
              "      <th>dropoff_datetime</th>\n",
              "      <th>passenger_count</th>\n",
              "      <th>pickup_longitude</th>\n",
              "      <th>pickup_latitude</th>\n",
              "      <th>dropoff_longitude</th>\n",
              "      <th>dropoff_latitude</th>\n",
              "      <th>store_and_fwd_flag</th>\n",
              "      <th>trip_duration</th>\n",
              "      <th>pickup_date</th>\n",
              "      <th>month_pickup</th>\n",
              "      <th>day_pickup</th>\n",
              "      <th>dow_pickup</th>\n",
              "      <th>hour_pickup</th>\n",
              "      <th>min_trip_duration</th>\n",
              "      <th>geometry</th>\n",
              "      <th>city</th>\n",
              "    </tr>\n",
              "  </thead>\n",
              "  <tbody>\n",
              "    <tr>\n",
              "      <th>0</th>\n",
              "      <td>id2875421</td>\n",
              "      <td>2</td>\n",
              "      <td>2016-03-14 17:24:55</td>\n",
              "      <td>2016-03-14 17:32:30</td>\n",
              "      <td>1</td>\n",
              "      <td>-73.982155</td>\n",
              "      <td>40.767937</td>\n",
              "      <td>-73.964630</td>\n",
              "      <td>40.765602</td>\n",
              "      <td>N</td>\n",
              "      <td>455</td>\n",
              "      <td>2016-03-14</td>\n",
              "      <td>3</td>\n",
              "      <td>14</td>\n",
              "      <td>0</td>\n",
              "      <td>17</td>\n",
              "      <td>7</td>\n",
              "      <td>POINT (-73.98215 40.76794)</td>\n",
              "      <td>T</td>\n",
              "    </tr>\n",
              "    <tr>\n",
              "      <th>1</th>\n",
              "      <td>id2377394</td>\n",
              "      <td>1</td>\n",
              "      <td>2016-06-12 00:43:35</td>\n",
              "      <td>2016-06-12 00:54:38</td>\n",
              "      <td>1</td>\n",
              "      <td>-73.980415</td>\n",
              "      <td>40.738564</td>\n",
              "      <td>-73.999481</td>\n",
              "      <td>40.731152</td>\n",
              "      <td>N</td>\n",
              "      <td>663</td>\n",
              "      <td>2016-06-12</td>\n",
              "      <td>6</td>\n",
              "      <td>12</td>\n",
              "      <td>6</td>\n",
              "      <td>0</td>\n",
              "      <td>11</td>\n",
              "      <td>POINT (-73.98042 40.73856)</td>\n",
              "      <td>T</td>\n",
              "    </tr>\n",
              "    <tr>\n",
              "      <th>2</th>\n",
              "      <td>id3858529</td>\n",
              "      <td>2</td>\n",
              "      <td>2016-01-19 11:35:24</td>\n",
              "      <td>2016-01-19 12:10:48</td>\n",
              "      <td>1</td>\n",
              "      <td>-73.979027</td>\n",
              "      <td>40.763939</td>\n",
              "      <td>-74.005333</td>\n",
              "      <td>40.710087</td>\n",
              "      <td>N</td>\n",
              "      <td>2124</td>\n",
              "      <td>2016-01-19</td>\n",
              "      <td>1</td>\n",
              "      <td>19</td>\n",
              "      <td>1</td>\n",
              "      <td>11</td>\n",
              "      <td>35</td>\n",
              "      <td>POINT (-73.97903 40.76394)</td>\n",
              "      <td>T</td>\n",
              "    </tr>\n",
              "    <tr>\n",
              "      <th>3</th>\n",
              "      <td>id3504673</td>\n",
              "      <td>2</td>\n",
              "      <td>2016-04-06 19:32:31</td>\n",
              "      <td>2016-04-06 19:39:40</td>\n",
              "      <td>1</td>\n",
              "      <td>-74.010040</td>\n",
              "      <td>40.719971</td>\n",
              "      <td>-74.012268</td>\n",
              "      <td>40.706718</td>\n",
              "      <td>N</td>\n",
              "      <td>429</td>\n",
              "      <td>2016-04-06</td>\n",
              "      <td>4</td>\n",
              "      <td>6</td>\n",
              "      <td>2</td>\n",
              "      <td>19</td>\n",
              "      <td>7</td>\n",
              "      <td>POINT (-74.01004 40.71997)</td>\n",
              "      <td>T</td>\n",
              "    </tr>\n",
              "    <tr>\n",
              "      <th>4</th>\n",
              "      <td>id2181028</td>\n",
              "      <td>2</td>\n",
              "      <td>2016-03-26 13:30:55</td>\n",
              "      <td>2016-03-26 13:38:10</td>\n",
              "      <td>1</td>\n",
              "      <td>-73.973053</td>\n",
              "      <td>40.793209</td>\n",
              "      <td>-73.972923</td>\n",
              "      <td>40.782520</td>\n",
              "      <td>N</td>\n",
              "      <td>435</td>\n",
              "      <td>2016-03-26</td>\n",
              "      <td>3</td>\n",
              "      <td>26</td>\n",
              "      <td>5</td>\n",
              "      <td>13</td>\n",
              "      <td>7</td>\n",
              "      <td>POINT (-73.97305 40.79321)</td>\n",
              "      <td>T</td>\n",
              "    </tr>\n",
              "  </tbody>\n",
              "</table>\n",
              "</div>\n",
              "      <button class=\"colab-df-convert\" onclick=\"convertToInteractive('df-65c01fe2-b387-4ada-83e6-0fa2e9bdd06e')\"\n",
              "              title=\"Convert this dataframe to an interactive table.\"\n",
              "              style=\"display:none;\">\n",
              "        \n",
              "  <svg xmlns=\"http://www.w3.org/2000/svg\" height=\"24px\"viewBox=\"0 0 24 24\"\n",
              "       width=\"24px\">\n",
              "    <path d=\"M0 0h24v24H0V0z\" fill=\"none\"/>\n",
              "    <path d=\"M18.56 5.44l.94 2.06.94-2.06 2.06-.94-2.06-.94-.94-2.06-.94 2.06-2.06.94zm-11 1L8.5 8.5l.94-2.06 2.06-.94-2.06-.94L8.5 2.5l-.94 2.06-2.06.94zm10 10l.94 2.06.94-2.06 2.06-.94-2.06-.94-.94-2.06-.94 2.06-2.06.94z\"/><path d=\"M17.41 7.96l-1.37-1.37c-.4-.4-.92-.59-1.43-.59-.52 0-1.04.2-1.43.59L10.3 9.45l-7.72 7.72c-.78.78-.78 2.05 0 2.83L4 21.41c.39.39.9.59 1.41.59.51 0 1.02-.2 1.41-.59l7.78-7.78 2.81-2.81c.8-.78.8-2.07 0-2.86zM5.41 20L4 18.59l7.72-7.72 1.47 1.35L5.41 20z\"/>\n",
              "  </svg>\n",
              "      </button>\n",
              "      \n",
              "  <style>\n",
              "    .colab-df-container {\n",
              "      display:flex;\n",
              "      flex-wrap:wrap;\n",
              "      gap: 12px;\n",
              "    }\n",
              "\n",
              "    .colab-df-convert {\n",
              "      background-color: #E8F0FE;\n",
              "      border: none;\n",
              "      border-radius: 50%;\n",
              "      cursor: pointer;\n",
              "      display: none;\n",
              "      fill: #1967D2;\n",
              "      height: 32px;\n",
              "      padding: 0 0 0 0;\n",
              "      width: 32px;\n",
              "    }\n",
              "\n",
              "    .colab-df-convert:hover {\n",
              "      background-color: #E2EBFA;\n",
              "      box-shadow: 0px 1px 2px rgba(60, 64, 67, 0.3), 0px 1px 3px 1px rgba(60, 64, 67, 0.15);\n",
              "      fill: #174EA6;\n",
              "    }\n",
              "\n",
              "    [theme=dark] .colab-df-convert {\n",
              "      background-color: #3B4455;\n",
              "      fill: #D2E3FC;\n",
              "    }\n",
              "\n",
              "    [theme=dark] .colab-df-convert:hover {\n",
              "      background-color: #434B5C;\n",
              "      box-shadow: 0px 1px 3px 1px rgba(0, 0, 0, 0.15);\n",
              "      filter: drop-shadow(0px 1px 2px rgba(0, 0, 0, 0.3));\n",
              "      fill: #FFFFFF;\n",
              "    }\n",
              "  </style>\n",
              "\n",
              "      <script>\n",
              "        const buttonEl =\n",
              "          document.querySelector('#df-65c01fe2-b387-4ada-83e6-0fa2e9bdd06e button.colab-df-convert');\n",
              "        buttonEl.style.display =\n",
              "          google.colab.kernel.accessAllowed ? 'block' : 'none';\n",
              "\n",
              "        async function convertToInteractive(key) {\n",
              "          const element = document.querySelector('#df-65c01fe2-b387-4ada-83e6-0fa2e9bdd06e');\n",
              "          const dataTable =\n",
              "            await google.colab.kernel.invokeFunction('convertToInteractive',\n",
              "                                                     [key], {});\n",
              "          if (!dataTable) return;\n",
              "\n",
              "          const docLinkHtml = 'Like what you see? Visit the ' +\n",
              "            '<a target=\"_blank\" href=https://colab.research.google.com/notebooks/data_table.ipynb>data table notebook</a>'\n",
              "            + ' to learn more about interactive tables.';\n",
              "          element.innerHTML = '';\n",
              "          dataTable['output_type'] = 'display_data';\n",
              "          await google.colab.output.renderOutput(dataTable, element);\n",
              "          const docLink = document.createElement('div');\n",
              "          docLink.innerHTML = docLinkHtml;\n",
              "          element.appendChild(docLink);\n",
              "        }\n",
              "      </script>\n",
              "    </div>\n",
              "  </div>\n",
              "  "
            ]
          },
          "metadata": {},
          "execution_count": 97
        }
      ]
    },
    {
      "cell_type": "code",
      "source": [
        "fig, ax = plt.subplots(figsize = (10,10))\n",
        "ny_bb.plot(ax=ax, color='lightgrey')\n",
        "gdf.plot(ax=ax, marker='o', color='red', markersize=1)"
      ],
      "metadata": {
        "id": "t2nD38KfwtL_",
        "outputId": "0eb11525-7627-4adc-fba3-8d95c2995e95",
        "colab": {
          "base_uri": "https://localhost:8080/",
          "height": 289
        }
      },
      "execution_count": 74,
      "outputs": [
        {
          "output_type": "execute_result",
          "data": {
            "text/plain": [
              "<matplotlib.axes._subplots.AxesSubplot at 0x7f42e2264c10>"
            ]
          },
          "metadata": {},
          "execution_count": 74
        },
        {
          "output_type": "display_data",
          "data": {
            "text/plain": [
              "<Figure size 720x720 with 1 Axes>"
            ],
            "image/png": "[encoded data removed]"
          },
          "metadata": {}
        }
      ]
    },
    {
      "cell_type": "code",
      "source": [
        "ny_bb.plot()"
      ],
      "metadata": {
        "id": "t0mnSi2A3-aT",
        "outputId": "ed36db1f-f556-4547-a6cf-347a8e855d5c",
        "colab": {
          "base_uri": "https://localhost:8080/",
          "height": 285
        }
      },
      "execution_count": 70,
      "outputs": [
        {
          "output_type": "execute_result",
          "data": {
            "text/plain": [
              "<matplotlib.axes._subplots.AxesSubplot at 0x7f430cd77e10>"
            ]
          },
          "metadata": {},
          "execution_count": 70
        },
        {
          "output_type": "display_data",
          "data": {
            "text/plain": [
              "<Figure size 432x288 with 1 Axes>"
            ],
            "image/png": "[encoded data removed]"
          },
          "metadata": {}
        }
      ]
    },
    {
      "cell_type": "markdown",
      "metadata": {
        "id": "g2Zf8-Z7nJgb"
      },
      "source": [
        "I need to remove all the starting points outside of new york"
      ]
    },
    {
      "cell_type": "markdown",
      "metadata": {
        "id": "cQfXrO0RnJgb"
      },
      "source": [
        "#### Distribution of pickup hour of the day"
      ]
    },
    {
      "cell_type": "code",
      "execution_count": null,
      "metadata": {
        "id": "I-lgxvFDnJgc"
      },
      "outputs": [],
      "source": [
        "#distribution of hours of the day pickup\n",
        "sns.histplot(data=ds_train, x=\"hour_pickup\", bins=24)\n",
        "plt.gca().set( ylabel='Frequency');"
      ]
    },
    {
      "cell_type": "markdown",
      "metadata": {
        "id": "VPaW847OnJgc"
      },
      "source": [
        "# Outliers"
      ]
    },
    {
      "cell_type": "markdown",
      "metadata": {
        "id": "t5igG5jenJgc"
      },
      "source": [
        "Removal of all trips that lasted more than 3hours"
      ]
    },
    {
      "cell_type": "code",
      "execution_count": 75,
      "metadata": {
        "id": "pzL6Fo-nnJgc"
      },
      "outputs": [],
      "source": [
        "ds_train_noOutlier = ds_train[ds_train[\"min_trip_duration\"]<(60*3)]"
      ]
    },
    {
      "cell_type": "markdown",
      "metadata": {
        "id": "RTlKHab5nJgd"
      },
      "source": [
        "Removal of all trips that have 0 passengers or more than 6"
      ]
    },
    {
      "cell_type": "code",
      "execution_count": 76,
      "metadata": {
        "id": "1QWkVCL7nJgd"
      },
      "outputs": [],
      "source": [
        "ds_train_noOutlier = ds_train_noOutlier[ds_train_noOutlier[\"passenger_count\"]>0]"
      ]
    },
    {
      "cell_type": "code",
      "execution_count": 77,
      "metadata": {
        "id": "Gm6qPQ8lnJgd"
      },
      "outputs": [],
      "source": [
        "ds_train_noOutlier = ds_train_noOutlier[ds_train_noOutlier[\"passenger_count\"]<=6]"
      ]
    },
    {
      "cell_type": "markdown",
      "metadata": {
        "id": "5gEPWmifnJgd"
      },
      "source": [
        "Removal of all starting point outside NY"
      ]
    },
    {
      "cell_type": "code",
      "execution_count": 89,
      "metadata": {
        "id": "7fjiJs9XnJgd",
        "outputId": "754f7572-ca8c-4e6a-fb62-2648bcb5f3c3",
        "colab": {
          "base_uri": "https://localhost:8080/"
        }
      },
      "outputs": [
        {
          "output_type": "stream",
          "name": "stderr",
          "text": [
            "100%|██████████| 1456468/1456468 [00:39<00:00, 37222.17it/s]\n"
          ]
        }
      ],
      "source": [
        "from tqdm import tqdm\n",
        "geolocator = Nominatim(user_agent=\"geoapiExercises\")\n",
        "def is_in_NY(Longitude, Latitude):\n",
        "    if(Latitude>40.484 and Latitude<40.937 and Longitude>-74.27207 and Longitude<-73.68974):\n",
        "        return \"T\"\n",
        "    else:\n",
        "        return \"F\"\n",
        "\n",
        "tqdm.pandas()\n",
        "ds_train_noOutlier[\"city\"] = ds_train_noOutlier.progress_apply(lambda x: is_in_NY(x[\"pickup_longitude\"], x[\"pickup_latitude\"]), axis=1)\n"
      ]
    },
    {
      "cell_type": "code",
      "execution_count": 90,
      "metadata": {
        "id": "OGlbRMwLnJge",
        "outputId": "9389215d-8314-4c4b-f721-0d97078dfb2b",
        "colab": {
          "base_uri": "https://localhost:8080/"
        }
      },
      "outputs": [
        {
          "output_type": "execute_result",
          "data": {
            "text/plain": [
              "city\n",
              "F        274\n",
              "T    1456194\n",
              "Name: id, dtype: int64"
            ]
          },
          "metadata": {},
          "execution_count": 90
        }
      ],
      "source": [
        "ds_train_noOutlier.groupby(\"city\")[\"id\"].count()"
      ]
    },
    {
      "cell_type": "code",
      "source": [
        "ds_train_noOutlier = ds_train_noOutlier[ds_train_noOutlier[\"city\"]==\"T\"]"
      ],
      "metadata": {
        "id": "s2J9HPcJ_MJl"
      },
      "execution_count": 92,
      "outputs": []
    },
    {
      "cell_type": "markdown",
      "metadata": {
        "id": "NaRMZtfCnJge"
      },
      "source": [
        "##### Percentage or record removal"
      ]
    },
    {
      "cell_type": "code",
      "execution_count": 93,
      "metadata": {
        "id": "bboyrEPknJge",
        "outputId": "36cf9144-690a-4f98-cc6e-4e1b16c7035d",
        "colab": {
          "base_uri": "https://localhost:8080/"
        }
      },
      "outputs": [
        {
          "output_type": "execute_result",
          "data": {
            "text/plain": [
              "0.0016796421882241397"
            ]
          },
          "metadata": {},
          "execution_count": 93
        }
      ],
      "source": [
        "1 - (ds_train_noOutlier[\"id\"].count() / ds_train[\"id\"].count())"
      ]
    },
    {
      "cell_type": "markdown",
      "metadata": {
        "id": "p8Ek54-xnJgf"
      },
      "source": [
        "Percentage of records deleted after clearing outiler: 0.1%"
      ]
    },
    {
      "cell_type": "markdown",
      "metadata": {
        "id": "K-kNtd7Q-1XC"
      },
      "source": [
        "# Feature extraction "
      ]
    },
    {
      "cell_type": "markdown",
      "metadata": {
        "id": "DM9mQZZ8nJgf"
      },
      "source": [
        "Columns added:\n",
        "- dow_pickup, day of the week of the pickup\n",
        "- distance, total distance calculated with difference between pickup lat. long. and dropoff lat. long.\n",
        "- zone, geographical zone calculate with clustering algorithm"
      ]
    },
    {
      "cell_type": "markdown",
      "metadata": {
        "id": "TXyQpKzunJgf"
      },
      "source": [
        "#### Distance from starting point to finishing point"
      ]
    },
    {
      "cell_type": "code",
      "execution_count": null,
      "metadata": {
        "id": "FznyEotKnJgg"
      },
      "outputs": [],
      "source": [
        "wgs84_geod = Geod(ellps='WGS84')\n",
        "\n",
        "#Get distance between pairs of lat-lon points\n",
        "def Distance(lat1,lon1,lat2,lon2):\n",
        "  az12,az21,dist = wgs84_geod.inv(lon1,lat1,lon2,lat2)\n",
        "  return dist\n",
        "\n",
        "#Create test data\n",
        "lat1 = ds_train_noOutlier.pickup_latitude\n",
        "lon1 = ds_train_noOutlier.pickup_longitude\n",
        "lat2 = ds_train_noOutlier.dropoff_latitude\n",
        "lon2 = ds_train_noOutlier.dropoff_latitude\n",
        "\n",
        "#Package as a dataframe\n",
        "df = pd.DataFrame({'lat1':lat1,'lon1':lon1,'lat2':lat2,'lon2':lon2})\n",
        "\n",
        "#Add/update a column to the data frame with the distances (in metres)\n",
        "ds_train_noOutlier['dist'] = Distance(df['lat1'].tolist(),df['lon1'].tolist(),df['lat2'].tolist(),df['lon2'].tolist())                               "
      ]
    },
    {
      "cell_type": "markdown",
      "metadata": {
        "id": "MuoQ1AuA-1XC"
      },
      "source": [
        "#### Cluster algorithm based on start location to extract the zone"
      ]
    },
    {
      "cell_type": "markdown",
      "metadata": {
        "id": "jnXBOeXa-1XC"
      },
      "source": [
        "# Feature selection"
      ]
    },
    {
      "cell_type": "markdown",
      "metadata": {
        "id": "e4QsnThonJgh"
      },
      "source": [
        "# Final data summary"
      ]
    },
    {
      "cell_type": "code",
      "execution_count": null,
      "metadata": {
        "id": "cJDu65pnnJgh",
        "outputId": "761bfd2a-0bd6-48ff-86f6-3492740293b1"
      },
      "outputs": [
        {
          "data": {
            "text/html": [
              "<div>\n",
              "<style scoped>\n",
              "    .dataframe tbody tr th:only-of-type {\n",
              "        vertical-align: middle;\n",
              "    }\n",
              "\n",
              "    .dataframe tbody tr th {\n",
              "        vertical-align: top;\n",
              "    }\n",
              "\n",
              "    .dataframe thead th {\n",
              "        text-align: right;\n",
              "    }\n",
              "</style>\n",
              "<table border=\"1\" class=\"dataframe\">\n",
              "  <thead>\n",
              "    <tr style=\"text-align: right;\">\n",
              "      <th></th>\n",
              "      <th>vendor_id</th>\n",
              "      <th>passenger_count</th>\n",
              "      <th>pickup_longitude</th>\n",
              "      <th>pickup_latitude</th>\n",
              "      <th>dropoff_longitude</th>\n",
              "      <th>dropoff_latitude</th>\n",
              "      <th>trip_duration</th>\n",
              "      <th>month_pickup</th>\n",
              "      <th>day_pickup</th>\n",
              "      <th>dow_pickup</th>\n",
              "      <th>hour_pickup</th>\n",
              "      <th>min_trip_duration</th>\n",
              "    </tr>\n",
              "  </thead>\n",
              "  <tbody>\n",
              "    <tr>\n",
              "      <th>count</th>\n",
              "      <td>1.456468e+06</td>\n",
              "      <td>1.456468e+06</td>\n",
              "      <td>1.456468e+06</td>\n",
              "      <td>1.456468e+06</td>\n",
              "      <td>1.456468e+06</td>\n",
              "      <td>1.456468e+06</td>\n",
              "      <td>1.456468e+06</td>\n",
              "      <td>1.456468e+06</td>\n",
              "      <td>1.456468e+06</td>\n",
              "      <td>1.456468e+06</td>\n",
              "      <td>1.456468e+06</td>\n",
              "      <td>1.456468e+06</td>\n",
              "    </tr>\n",
              "    <tr>\n",
              "      <th>mean</th>\n",
              "      <td>1.534291e+00</td>\n",
              "      <td>1.663986e+00</td>\n",
              "      <td>-7.397349e+01</td>\n",
              "      <td>4.075093e+01</td>\n",
              "      <td>-7.397342e+01</td>\n",
              "      <td>4.075180e+01</td>\n",
              "      <td>8.368253e+02</td>\n",
              "      <td>3.516784e+00</td>\n",
              "      <td>1.550401e+01</td>\n",
              "      <td>3.049950e+00</td>\n",
              "      <td>1.360663e+01</td>\n",
              "      <td>1.345637e+01</td>\n",
              "    </tr>\n",
              "    <tr>\n",
              "      <th>std</th>\n",
              "      <td>4.988229e-01</td>\n",
              "      <td>1.313550e+00</td>\n",
              "      <td>7.091102e-02</td>\n",
              "      <td>3.286402e-02</td>\n",
              "      <td>7.067243e-02</td>\n",
              "      <td>3.588669e-02</td>\n",
              "      <td>6.584766e+02</td>\n",
              "      <td>1.681028e+00</td>\n",
              "      <td>8.702933e+00</td>\n",
              "      <td>1.954021e+00</td>\n",
              "      <td>6.399269e+00</td>\n",
              "      <td>1.097804e+01</td>\n",
              "    </tr>\n",
              "    <tr>\n",
              "      <th>min</th>\n",
              "      <td>1.000000e+00</td>\n",
              "      <td>1.000000e+00</td>\n",
              "      <td>-1.219333e+02</td>\n",
              "      <td>3.435970e+01</td>\n",
              "      <td>-1.219333e+02</td>\n",
              "      <td>3.218114e+01</td>\n",
              "      <td>1.000000e+00</td>\n",
              "      <td>1.000000e+00</td>\n",
              "      <td>1.000000e+00</td>\n",
              "      <td>0.000000e+00</td>\n",
              "      <td>0.000000e+00</td>\n",
              "      <td>0.000000e+00</td>\n",
              "    </tr>\n",
              "    <tr>\n",
              "      <th>25%</th>\n",
              "      <td>1.000000e+00</td>\n",
              "      <td>1.000000e+00</td>\n",
              "      <td>-7.399187e+01</td>\n",
              "      <td>4.073736e+01</td>\n",
              "      <td>-7.399133e+01</td>\n",
              "      <td>4.073589e+01</td>\n",
              "      <td>3.970000e+02</td>\n",
              "      <td>2.000000e+00</td>\n",
              "      <td>8.000000e+00</td>\n",
              "      <td>1.000000e+00</td>\n",
              "      <td>9.000000e+00</td>\n",
              "      <td>6.000000e+00</td>\n",
              "    </tr>\n",
              "    <tr>\n",
              "      <th>50%</th>\n",
              "      <td>2.000000e+00</td>\n",
              "      <td>1.000000e+00</td>\n",
              "      <td>-7.398174e+01</td>\n",
              "      <td>4.075410e+01</td>\n",
              "      <td>-7.397975e+01</td>\n",
              "      <td>4.075453e+01</td>\n",
              "      <td>6.620000e+02</td>\n",
              "      <td>4.000000e+00</td>\n",
              "      <td>1.500000e+01</td>\n",
              "      <td>3.000000e+00</td>\n",
              "      <td>1.400000e+01</td>\n",
              "      <td>1.100000e+01</td>\n",
              "    </tr>\n",
              "    <tr>\n",
              "      <th>75%</th>\n",
              "      <td>2.000000e+00</td>\n",
              "      <td>2.000000e+00</td>\n",
              "      <td>-7.396733e+01</td>\n",
              "      <td>4.076836e+01</td>\n",
              "      <td>-7.396302e+01</td>\n",
              "      <td>4.076981e+01</td>\n",
              "      <td>1.073000e+03</td>\n",
              "      <td>5.000000e+00</td>\n",
              "      <td>2.300000e+01</td>\n",
              "      <td>5.000000e+00</td>\n",
              "      <td>1.900000e+01</td>\n",
              "      <td>1.700000e+01</td>\n",
              "    </tr>\n",
              "    <tr>\n",
              "      <th>max</th>\n",
              "      <td>2.000000e+00</td>\n",
              "      <td>6.000000e+00</td>\n",
              "      <td>-6.133553e+01</td>\n",
              "      <td>5.188108e+01</td>\n",
              "      <td>-6.133553e+01</td>\n",
              "      <td>4.392103e+01</td>\n",
              "      <td>1.073100e+04</td>\n",
              "      <td>6.000000e+00</td>\n",
              "      <td>3.100000e+01</td>\n",
              "      <td>6.000000e+00</td>\n",
              "      <td>2.300000e+01</td>\n",
              "      <td>1.780000e+02</td>\n",
              "    </tr>\n",
              "  </tbody>\n",
              "</table>\n",
              "</div>"
            ],
            "text/plain": [
              "          vendor_id  passenger_count  pickup_longitude  pickup_latitude  \\\n",
              "count  1.456468e+06     1.456468e+06      1.456468e+06     1.456468e+06   \n",
              "mean   1.534291e+00     1.663986e+00     -7.397349e+01     4.075093e+01   \n",
              "std    4.988229e-01     1.313550e+00      7.091102e-02     3.286402e-02   \n",
              "min    1.000000e+00     1.000000e+00     -1.219333e+02     3.435970e+01   \n",
              "25%    1.000000e+00     1.000000e+00     -7.399187e+01     4.073736e+01   \n",
              "50%    2.000000e+00     1.000000e+00     -7.398174e+01     4.075410e+01   \n",
              "75%    2.000000e+00     2.000000e+00     -7.396733e+01     4.076836e+01   \n",
              "max    2.000000e+00     6.000000e+00     -6.133553e+01     5.188108e+01   \n",
              "\n",
              "       dropoff_longitude  dropoff_latitude  trip_duration  month_pickup  \\\n",
              "count       1.456468e+06      1.456468e+06   1.456468e+06  1.456468e+06   \n",
              "mean       -7.397342e+01      4.075180e+01   8.368253e+02  3.516784e+00   \n",
              "std         7.067243e-02      3.588669e-02   6.584766e+02  1.681028e+00   \n",
              "min        -1.219333e+02      3.218114e+01   1.000000e+00  1.000000e+00   \n",
              "25%        -7.399133e+01      4.073589e+01   3.970000e+02  2.000000e+00   \n",
              "50%        -7.397975e+01      4.075453e+01   6.620000e+02  4.000000e+00   \n",
              "75%        -7.396302e+01      4.076981e+01   1.073000e+03  5.000000e+00   \n",
              "max        -6.133553e+01      4.392103e+01   1.073100e+04  6.000000e+00   \n",
              "\n",
              "         day_pickup    dow_pickup   hour_pickup  min_trip_duration  \n",
              "count  1.456468e+06  1.456468e+06  1.456468e+06       1.456468e+06  \n",
              "mean   1.550401e+01  3.049950e+00  1.360663e+01       1.345637e+01  \n",
              "std    8.702933e+00  1.954021e+00  6.399269e+00       1.097804e+01  \n",
              "min    1.000000e+00  0.000000e+00  0.000000e+00       0.000000e+00  \n",
              "25%    8.000000e+00  1.000000e+00  9.000000e+00       6.000000e+00  \n",
              "50%    1.500000e+01  3.000000e+00  1.400000e+01       1.100000e+01  \n",
              "75%    2.300000e+01  5.000000e+00  1.900000e+01       1.700000e+01  \n",
              "max    3.100000e+01  6.000000e+00  2.300000e+01       1.780000e+02  "
            ]
          },
          "execution_count": 131,
          "metadata": {},
          "output_type": "execute_result"
        }
      ],
      "source": [
        "ds_train_noOutlier.describe()"
      ]
    },
    {
      "cell_type": "code",
      "execution_count": null,
      "metadata": {
        "id": "B6wTO5s9nJgh",
        "outputId": "c72c6702-a088-4ba8-f463-25872f311c06"
      },
      "outputs": [
        {
          "data": {
            "text/plain": [
              "<AxesSubplot:xlabel='passenger_count', ylabel='min_trip_duration'>"
            ]
          },
          "execution_count": 132,
          "metadata": {},
          "output_type": "execute_result"
        },
        {
          "data": {
            "image/png": "[encoded data removed]",
            "text/plain": [
              "<Figure size 432x288 with 1 Axes>"
            ]
          },
          "metadata": {},
          "output_type": "display_data"
        }
      ],
      "source": [
        "#violin plot with trip duration in min and number of passengers\n",
        "sns.violinplot(y=ds_train_noOutlier[\"min_trip_duration\"], x=ds_train_noOutlier[\"passenger_count\"])"
      ]
    },
    {
      "cell_type": "code",
      "execution_count": null,
      "metadata": {
        "id": "G18Gp2ICnJgi",
        "outputId": "410c5428-b466-4edb-aa0b-ddb662c1b649"
      },
      "outputs": [
        {
          "data": {
            "text/plain": [
              "<AxesSubplot:xlabel='dow_pickup', ylabel='min_trip_duration'>"
            ]
          },
          "execution_count": 133,
          "metadata": {},
          "output_type": "execute_result"
        },
        {
          "data": {
            "image/png": "[encoded data removed]",
            "text/plain": [
              "<Figure size 432x288 with 1 Axes>"
            ]
          },
          "metadata": {},
          "output_type": "display_data"
        }
      ],
      "source": [
        "# bar plot of time duration in min per day\n",
        "sns.barplot(data=ds_train_noOutlier, y=\"min_trip_duration\", x=\"dow_pickup\")"
      ]
    },
    {
      "cell_type": "code",
      "execution_count": null,
      "metadata": {
        "id": "wGi7VJibnJgi",
        "outputId": "4143af98-d89a-4294-b09d-4060ca4f0d31"
      },
      "outputs": [
        {
          "data": {
            "image/png": "[encoded data removed]",
            "text/plain": [
              "<Figure size 432x288 with 1 Axes>"
            ]
          },
          "metadata": {
            "needs_background": "light"
          },
          "output_type": "display_data"
        }
      ],
      "source": [
        "#distribution of trips duration\n",
        "sns.histplot(data=ds_train_noOutlier, x=\"trip_duration\", bins=100, stat=\"probability\")\n",
        "plt.gca().set( ylabel='Frequency', xlabel=\"Duration in sec\");"
      ]
    },
    {
      "cell_type": "code",
      "execution_count": 94,
      "metadata": {
        "id": "u7gSNDz3nJgi",
        "outputId": "4b89ef18-9937-4d89-b15d-057a27fb0a21",
        "colab": {
          "base_uri": "https://localhost:8080/"
        }
      },
      "outputs": [
        {
          "output_type": "stream",
          "name": "stderr",
          "text": [
            "/usr/local/lib/python3.7/dist-packages/pyproj/crs/crs.py:131: FutureWarning: '+init=<authority>:<code>' syntax is deprecated. '<authority>:<code>' is the preferred initialization method. When making the change, be mindful of axis order changes: https://pyproj4.github.io/pyproj/stable/gotchas.html#axis-order-changes-in-proj-6\n",
            "  in_crs_string = _prepare_from_proj_string(in_crs_string)\n"
          ]
        }
      ],
      "source": [
        "geometry = [Point(xy) for xy in zip(ds_train_noOutlier['pickup_longitude'], ds_train_noOutlier['pickup_latitude'])]\n",
        "geo_df = gpd.GeoDataFrame(ds_train_noOutlier, crs = crs, geometry = geometry)"
      ]
    },
    {
      "cell_type": "code",
      "source": [
        "fig, ax = plt.subplots(figsize = (10,10))\n",
        "ny_bb.plot(ax=ax, color='lightgrey')\n",
        "geo_df.plot(ax=ax, marker='o', color='red', markersize=1)"
      ],
      "metadata": {
        "id": "zYHwuukrAGN5",
        "outputId": "831eb999-8eb5-4c1a-81b7-54845dd26193",
        "colab": {
          "base_uri": "https://localhost:8080/",
          "height": 611
        }
      },
      "execution_count": 96,
      "outputs": [
        {
          "output_type": "execute_result",
          "data": {
            "text/plain": [
              "<matplotlib.axes._subplots.AxesSubplot at 0x7f42b2e2e7d0>"
            ]
          },
          "metadata": {},
          "execution_count": 96
        },
        {
          "output_type": "display_data",
          "data": {
            "text/plain": [
              "<Figure size 720x720 with 1 Axes>"
            ],
            "image/png": "[encoded data removed]"
          },
          "metadata": {}
        }
      ]
    },
    {
      "cell_type": "code",
      "source": [
        ""
      ],
      "metadata": {
        "id": "aEfmIAiPAJlT"
      },
      "execution_count": null,
      "outputs": []
    }
  ],
  "metadata": {
    "accelerator": "GPU",
    "colab": {
      "name": "1_Preparation.ipynb",
      "provenance": []
    },
    "interpreter": {
      "hash": "c879c69e06522817e4609568d3627706e84f6e3919ca12ea4a6436e492954e1f"
    },
    "kernelspec": {
      "display_name": "Python 3.10.4 ('default')",
      "language": "python",
      "name": "python3"
    },
    "language_info": {
      "codemirror_mode": {
        "name": "ipython",
        "version": 3
      },
      "file_extension": ".py",
      "mimetype": "text/x-python",
      "name": "python",
      "nbconvert_exporter": "python",
      "pygments_lexer": "ipython3",
      "version": "3.10.4"
    },
    "orig_nbformat": 4
  },
  "nbformat": 4,
  "nbformat_minor": 0
}