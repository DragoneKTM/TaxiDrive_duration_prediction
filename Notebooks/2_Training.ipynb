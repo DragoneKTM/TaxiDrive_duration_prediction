{
  "cells": [
    {
      "cell_type": "code",
      "execution_count": 4,
      "metadata": {
        "id": "4Fcpe1xa-eUN"
      },
      "outputs": [],
      "source": [
        "import pandas as pd\n",
        "import numpy as np\n",
        "import matplotlib.pyplot as plt\n",
        "from keras.callbacks import ModelCheckpoint\n",
        "from keras.models import Sequential\n",
        "from sklearn.ensemble import RandomForestRegressor\n",
        "from keras.layers import Dense, Activation, Flatten\n",
        "from sklearn.model_selection import train_test_split\n",
        "from sklearn.metrics import mean_squared_log_error\n",
        "import keras"
      ]
    },
    {
      "cell_type": "code",
      "execution_count": 7,
      "metadata": {
        "id": "yZ5G31Zj-eUT"
      },
      "outputs": [],
      "source": [
        "#Dataset load\n",
        "ds_train = pd.read_csv(\"/clear_dataset.zip\" , compression=\"zip\")"
      ]
    },
    {
      "cell_type": "code",
      "execution_count": 8,
      "metadata": {
        "id": "ZFCQIB-Q-eUU",
        "outputId": "951b5850-ba50-432b-acc0-e26bdcc0a41f",
        "colab": {
          "base_uri": "https://localhost:8080/",
          "height": 206
        }
      },
      "outputs": [
        {
          "output_type": "execute_result",
          "data": {
            "text/plain": [
              "   passenger_count  trip_duration  month_pickup  dow_pickup  hour_pickup  \\\n",
              "0                1            455             3           0           17   \n",
              "1                1            663             6           6            0   \n",
              "2                1           2124             1           1           11   \n",
              "3                1            429             4           2           19   \n",
              "4                1            435             3           5           13   \n",
              "\n",
              "   BoroCode   BoroName   dist_km  average_speed  \n",
              "0         1  Manhattan  1.498521      11.856428  \n",
              "1         1  Manhattan  1.805507       9.803659  \n",
              "2         1  Manhattan  6.385098      10.822201  \n",
              "3         1  Manhattan  1.485498      12.465721  \n",
              "4         1  Manhattan  1.188588       9.836594  "
            ],
            "text/html": [
              "\n",
              "  <div id=\"df-d116c8b7-67fe-4b1d-959f-4665dfd76bb0\">\n",
              "    <div class=\"colab-df-container\">\n",
              "      <div>\n",
              "<style scoped>\n",
              "    .dataframe tbody tr th:only-of-type {\n",
              "        vertical-align: middle;\n",
              "    }\n",
              "\n",
              "    .dataframe tbody tr th {\n",
              "        vertical-align: top;\n",
              "    }\n",
              "\n",
              "    .dataframe thead th {\n",
              "        text-align: right;\n",
              "    }\n",
              "</style>\n",
              "<table border=\"1\" class=\"dataframe\">\n",
              "  <thead>\n",
              "    <tr style=\"text-align: right;\">\n",
              "      <th></th>\n",
              "      <th>passenger_count</th>\n",
              "      <th>trip_duration</th>\n",
              "      <th>month_pickup</th>\n",
              "      <th>dow_pickup</th>\n",
              "      <th>hour_pickup</th>\n",
              "      <th>BoroCode</th>\n",
              "      <th>BoroName</th>\n",
              "      <th>dist_km</th>\n",
              "      <th>average_speed</th>\n",
              "    </tr>\n",
              "  </thead>\n",
              "  <tbody>\n",
              "    <tr>\n",
              "      <th>0</th>\n",
              "      <td>1</td>\n",
              "      <td>455</td>\n",
              "      <td>3</td>\n",
              "      <td>0</td>\n",
              "      <td>17</td>\n",
              "      <td>1</td>\n",
              "      <td>Manhattan</td>\n",
              "      <td>1.498521</td>\n",
              "      <td>11.856428</td>\n",
              "    </tr>\n",
              "    <tr>\n",
              "      <th>1</th>\n",
              "      <td>1</td>\n",
              "      <td>663</td>\n",
              "      <td>6</td>\n",
              "      <td>6</td>\n",
              "      <td>0</td>\n",
              "      <td>1</td>\n",
              "      <td>Manhattan</td>\n",
              "      <td>1.805507</td>\n",
              "      <td>9.803659</td>\n",
              "    </tr>\n",
              "    <tr>\n",
              "      <th>2</th>\n",
              "      <td>1</td>\n",
              "      <td>2124</td>\n",
              "      <td>1</td>\n",
              "      <td>1</td>\n",
              "      <td>11</td>\n",
              "      <td>1</td>\n",
              "      <td>Manhattan</td>\n",
              "      <td>6.385098</td>\n",
              "      <td>10.822201</td>\n",
              "    </tr>\n",
              "    <tr>\n",
              "      <th>3</th>\n",
              "      <td>1</td>\n",
              "      <td>429</td>\n",
              "      <td>4</td>\n",
              "      <td>2</td>\n",
              "      <td>19</td>\n",
              "      <td>1</td>\n",
              "      <td>Manhattan</td>\n",
              "      <td>1.485498</td>\n",
              "      <td>12.465721</td>\n",
              "    </tr>\n",
              "    <tr>\n",
              "      <th>4</th>\n",
              "      <td>1</td>\n",
              "      <td>435</td>\n",
              "      <td>3</td>\n",
              "      <td>5</td>\n",
              "      <td>13</td>\n",
              "      <td>1</td>\n",
              "      <td>Manhattan</td>\n",
              "      <td>1.188588</td>\n",
              "      <td>9.836594</td>\n",
              "    </tr>\n",
              "  </tbody>\n",
              "</table>\n",
              "</div>\n",
              "      <button class=\"colab-df-convert\" onclick=\"convertToInteractive('df-d116c8b7-67fe-4b1d-959f-4665dfd76bb0')\"\n",
              "              title=\"Convert this dataframe to an interactive table.\"\n",
              "              style=\"display:none;\">\n",
              "        \n",
              "  <svg xmlns=\"http://www.w3.org/2000/svg\" height=\"24px\"viewBox=\"0 0 24 24\"\n",
              "       width=\"24px\">\n",
              "    <path d=\"M0 0h24v24H0V0z\" fill=\"none\"/>\n",
              "    <path d=\"M18.56 5.44l.94 2.06.94-2.06 2.06-.94-2.06-.94-.94-2.06-.94 2.06-2.06.94zm-11 1L8.5 8.5l.94-2.06 2.06-.94-2.06-.94L8.5 2.5l-.94 2.06-2.06.94zm10 10l.94 2.06.94-2.06 2.06-.94-2.06-.94-.94-2.06-.94 2.06-2.06.94z\"/><path d=\"M17.41 7.96l-1.37-1.37c-.4-.4-.92-.59-1.43-.59-.52 0-1.04.2-1.43.59L10.3 9.45l-7.72 7.72c-.78.78-.78 2.05 0 2.83L4 21.41c.39.39.9.59 1.41.59.51 0 1.02-.2 1.41-.59l7.78-7.78 2.81-2.81c.8-.78.8-2.07 0-2.86zM5.41 20L4 18.59l7.72-7.72 1.47 1.35L5.41 20z\"/>\n",
              "  </svg>\n",
              "      </button>\n",
              "      \n",
              "  <style>\n",
              "    .colab-df-container {\n",
              "      display:flex;\n",
              "      flex-wrap:wrap;\n",
              "      gap: 12px;\n",
              "    }\n",
              "\n",
              "    .colab-df-convert {\n",
              "      background-color: #E8F0FE;\n",
              "      border: none;\n",
              "      border-radius: 50%;\n",
              "      cursor: pointer;\n",
              "      display: none;\n",
              "      fill: #1967D2;\n",
              "      height: 32px;\n",
              "      padding: 0 0 0 0;\n",
              "      width: 32px;\n",
              "    }\n",
              "\n",
              "    .colab-df-convert:hover {\n",
              "      background-color: #E2EBFA;\n",
              "      box-shadow: 0px 1px 2px rgba(60, 64, 67, 0.3), 0px 1px 3px 1px rgba(60, 64, 67, 0.15);\n",
              "      fill: #174EA6;\n",
              "    }\n",
              "\n",
              "    [theme=dark] .colab-df-convert {\n",
              "      background-color: #3B4455;\n",
              "      fill: #D2E3FC;\n",
              "    }\n",
              "\n",
              "    [theme=dark] .colab-df-convert:hover {\n",
              "      background-color: #434B5C;\n",
              "      box-shadow: 0px 1px 3px 1px rgba(0, 0, 0, 0.15);\n",
              "      filter: drop-shadow(0px 1px 2px rgba(0, 0, 0, 0.3));\n",
              "      fill: #FFFFFF;\n",
              "    }\n",
              "  </style>\n",
              "\n",
              "      <script>\n",
              "        const buttonEl =\n",
              "          document.querySelector('#df-d116c8b7-67fe-4b1d-959f-4665dfd76bb0 button.colab-df-convert');\n",
              "        buttonEl.style.display =\n",
              "          google.colab.kernel.accessAllowed ? 'block' : 'none';\n",
              "\n",
              "        async function convertToInteractive(key) {\n",
              "          const element = document.querySelector('#df-d116c8b7-67fe-4b1d-959f-4665dfd76bb0');\n",
              "          const dataTable =\n",
              "            await google.colab.kernel.invokeFunction('convertToInteractive',\n",
              "                                                     [key], {});\n",
              "          if (!dataTable) return;\n",
              "\n",
              "          const docLinkHtml = 'Like what you see? Visit the ' +\n",
              "            '<a target=\"_blank\" href=https://colab.research.google.com/notebooks/data_table.ipynb>data table notebook</a>'\n",
              "            + ' to learn more about interactive tables.';\n",
              "          element.innerHTML = '';\n",
              "          dataTable['output_type'] = 'display_data';\n",
              "          await google.colab.output.renderOutput(dataTable, element);\n",
              "          const docLink = document.createElement('div');\n",
              "          docLink.innerHTML = docLinkHtml;\n",
              "          element.appendChild(docLink);\n",
              "        }\n",
              "      </script>\n",
              "    </div>\n",
              "  </div>\n",
              "  "
            ]
          },
          "metadata": {},
          "execution_count": 8
        }
      ],
      "source": [
        "ds_train.head()"
      ]
    },
    {
      "cell_type": "markdown",
      "metadata": {
        "id": "V_ux2m-0-eUV"
      },
      "source": [
        "### One hot encoding categorical features"
      ]
    },
    {
      "cell_type": "code",
      "execution_count": 9,
      "metadata": {
        "id": "ZnS5i3UB-eUX"
      },
      "outputs": [],
      "source": [
        "def oneHotEncode(df,colNames):\n",
        "    for col in colNames:\n",
        "        if( df[col].dtype == np.dtype('int64')):\n",
        "            dummies = pd.get_dummies(df[col],prefix=col)\n",
        "            df = pd.concat([df,dummies],axis=1)\n",
        "\n",
        "            #drop the encoded column\n",
        "            df.drop([col],axis = 1 , inplace=True)\n",
        "    return df\n",
        "ds_train = oneHotEncode(ds_train, [\"BoroCode\"])"
      ]
    },
    {
      "cell_type": "markdown",
      "metadata": {
        "id": "pm9wgM5V-eUY"
      },
      "source": [
        "### Circular predictors for hours, month and day_of_week variables"
      ]
    },
    {
      "cell_type": "code",
      "execution_count": 10,
      "metadata": {
        "id": "O9eoHaJs-eUZ"
      },
      "outputs": [],
      "source": [
        "ds_train['sin_hour_pickup'] = np.sin(2*np.pi*ds_train.hour_pickup/24)\n",
        "ds_train['cos__hour_pickup'] = np.cos(2*np.pi*ds_train.hour_pickup/24)\n",
        "ds_train.drop('hour_pickup', axis=1, inplace=True)"
      ]
    },
    {
      "cell_type": "code",
      "execution_count": 11,
      "metadata": {
        "id": "sgoJ3yUr-eUa"
      },
      "outputs": [],
      "source": [
        "ds_train['sin_month_pickup'] = np.sin(2*np.pi*ds_train.month_pickup/12)\n",
        "ds_train['cos__month_pickup'] = np.cos(2*np.pi*ds_train.month_pickup/12)\n",
        "ds_train.drop('month_pickup', axis=1, inplace=True)"
      ]
    },
    {
      "cell_type": "code",
      "execution_count": 12,
      "metadata": {
        "id": "2a-EYYZD-eUb"
      },
      "outputs": [],
      "source": [
        "ds_train['sin_dow_pickup'] = np.sin(2*np.pi*ds_train.dow_pickup/7)\n",
        "ds_train['cos__dow_pickup'] = np.cos(2*np.pi*ds_train.dow_pickup/7)\n",
        "ds_train.drop('dow_pickup', axis=1, inplace=True)"
      ]
    },
    {
      "cell_type": "markdown",
      "metadata": {
        "id": "J4WZn8Uq-eUb"
      },
      "source": [
        "### Feature selection\n"
      ]
    },
    {
      "cell_type": "markdown",
      "metadata": {
        "id": "gg97a0ch-eUc"
      },
      "source": [
        "Removal average speed since it is calculated based on the predicted variable"
      ]
    },
    {
      "cell_type": "code",
      "execution_count": 13,
      "metadata": {
        "id": "xXypLQjV-eUc"
      },
      "outputs": [],
      "source": [
        "ds_train.drop(['average_speed', \"BoroName\"], axis=1, inplace=True)"
      ]
    },
    {
      "cell_type": "markdown",
      "source": [
        "### Y and X variables\n"
      ],
      "metadata": {
        "id": "_H7JPA30IkFj"
      }
    },
    {
      "cell_type": "code",
      "source": [
        "y_values = ds_train[\"trip_duration\"]\n",
        "x_values = ds_train.drop([\"trip_duration\"],axis=1)"
      ],
      "metadata": {
        "id": "EWCprKiBIoF0"
      },
      "execution_count": 14,
      "outputs": []
    },
    {
      "cell_type": "markdown",
      "source": [
        "## Random forest model as benchmark"
      ],
      "metadata": {
        "id": "b9_kC48fHuEX"
      }
    },
    {
      "cell_type": "code",
      "source": [
        "train_X, val_X, train_y, val_y = train_test_split(x_values, y_values, test_size = 0.25, random_state = 12)\n",
        "\n",
        "from sklearn.model_selection import RandomizedSearchCV\n",
        "random_grid = {'max_depth': [5, 10, 12, 14]}\n",
        "random_forest = RandomForestRegressor()\n",
        "random_forest_grid = RandomizedSearchCV(estimator = random_forest, param_distributions = random_grid, n_iter = 100, cv = 3, verbose=2, random_state=42, n_jobs = -1)\n",
        "\n",
        "random_forest_grid.fit(train_X, train_y)\n",
        "\n",
        "predicted_trip_duration = random_forest_grid.predict(val_X)\n",
        "MSLE = \tmean_squared_log_error(val_y , predicted_trip_duration)\n",
        "print('Random forest validation MSLE = ', MSLE)"
      ],
      "metadata": {
        "id": "8XBPaVS-H7ug",
        "outputId": "bf111095-d580-4ee2-a23a-6b9149a2b688",
        "colab": {
          "base_uri": "https://localhost:8080/"
        }
      },
      "execution_count": 43,
      "outputs": [
        {
          "output_type": "stream",
          "name": "stdout",
          "text": [
            "Fitting 3 folds for each of 4 candidates, totalling 12 fits\n"
          ]
        },
        {
          "output_type": "stream",
          "name": "stderr",
          "text": [
            "/usr/local/lib/python3.7/dist-packages/sklearn/model_selection/_search.py:296: UserWarning: The total space of parameters 4 is smaller than n_iter=100. Running 4 iterations. For exhaustive searches, use GridSearchCV.\n",
            "  UserWarning,\n"
          ]
        },
        {
          "output_type": "stream",
          "name": "stdout",
          "text": [
            "Random forest validation MSLE =  0.18749680681619824\n"
          ]
        }
      ]
    },
    {
      "cell_type": "code",
      "source": [
        "random_forest_grid.best_estimator_"
      ],
      "metadata": {
        "id": "Z4ii9K2R07tW",
        "outputId": "2806f6e6-edb3-4ff6-8e24-1958bcd6cb14",
        "colab": {
          "base_uri": "https://localhost:8080/"
        }
      },
      "execution_count": 44,
      "outputs": [
        {
          "output_type": "execute_result",
          "data": {
            "text/plain": [
              "RandomForestRegressor(max_depth=12)"
            ]
          },
          "metadata": {},
          "execution_count": 44
        }
      ]
    },
    {
      "cell_type": "code",
      "source": [
        "importances = pd.DataFrame({'feature':train_X.columns,'importance':np.round(random_forest_grid.best_estimator_.feature_importances_,3)})\n",
        "importances = importances.sort_values('importance',ascending=False).set_index('feature')\n",
        "importances.plot.bar()"
      ],
      "metadata": {
        "id": "wIqi4qgkbSyq",
        "outputId": "48b2f9ea-6e6c-4833-875f-aa0ac2f15a87",
        "colab": {
          "base_uri": "https://localhost:8080/",
          "height": 383
        }
      },
      "execution_count": 45,
      "outputs": [
        {
          "output_type": "execute_result",
          "data": {
            "text/plain": [
              "<matplotlib.axes._subplots.AxesSubplot at 0x7f68cc31c210>"
            ]
          },
          "metadata": {},
          "execution_count": 45
        },
        {
          "output_type": "display_data",
          "data": {
            "text/plain": [
              "<Figure size 432x288 with 1 Axes>"
            ],
            "image/png": "[encoded data removed]"
          },
          "metadata": {
            "needs_background": "light"
          }
        }
      ]
    },
    {
      "cell_type": "markdown",
      "metadata": {
        "id": "ngcRd7a3-eUd"
      },
      "source": [
        "# Train vanilla neural network"
      ]
    },
    {
      "cell_type": "code",
      "execution_count": 15,
      "metadata": {
        "id": "Lw8V_sK2-eUd",
        "outputId": "69f85a9f-47d9-44d0-a0d1-901a6118cd9c",
        "colab": {
          "base_uri": "https://localhost:8080/"
        }
      },
      "outputs": [
        {
          "output_type": "stream",
          "name": "stdout",
          "text": [
            "Model: \"sequential\"\n",
            "_________________________________________________________________\n",
            " Layer (type)                Output Shape              Param #   \n",
            "=================================================================\n",
            " dense (Dense)               (None, 128)               1792      \n",
            "                                                                 \n",
            " dense_1 (Dense)             (None, 256)               33024     \n",
            "                                                                 \n",
            " dense_2 (Dense)             (None, 256)               65792     \n",
            "                                                                 \n",
            " dense_3 (Dense)             (None, 256)               65792     \n",
            "                                                                 \n",
            " dense_4 (Dense)             (None, 1)                 257       \n",
            "                                                                 \n",
            "=================================================================\n",
            "Total params: 166,657\n",
            "Trainable params: 166,657\n",
            "Non-trainable params: 0\n",
            "_________________________________________________________________\n"
          ]
        }
      ],
      "source": [
        "NN_model = Sequential()\n",
        "\n",
        "# The Input Layer :\n",
        "NN_model.add(Dense(128, kernel_initializer='normal',input_dim = ds_train.shape[1]-1, activation='relu'))\n",
        "\n",
        "# The Hidden Layers :\n",
        "NN_model.add(Dense(256, kernel_initializer='normal',activation='relu'))\n",
        "NN_model.add(Dense(256, kernel_initializer='normal',activation='relu'))\n",
        "NN_model.add(Dense(256, kernel_initializer='normal',activation='relu'))\n",
        "\n",
        "# The Output Layer :\n",
        "NN_model.add(Dense(1, kernel_initializer='normal',activation='linear'))\n",
        "\n",
        "# Compile the network :\n",
        "NN_model.compile(loss=keras.losses.MeanSquaredLogarithmicError(), optimizer='adam', metrics=keras.losses.MeanSquaredLogarithmicError())\n",
        "NN_model.summary()"
      ]
    },
    {
      "cell_type": "code",
      "source": [
        "checkpoint_name = 'Weights-{epoch:03d}--{val_loss:.5f}.hdf5' \n",
        "checkpoint = ModelCheckpoint(checkpoint_name, monitor='val_loss', verbose = 1, save_best_only = True, mode ='auto')\n",
        "callbacks_list = [checkpoint]"
      ],
      "metadata": {
        "id": "h-LR5odPKOnz"
      },
      "execution_count": 16,
      "outputs": []
    },
    {
      "cell_type": "code",
      "source": [
        "NN_model.fit(x_values, y_values, epochs=50, batch_size=1024, validation_split = 0.25, callbacks=callbacks_list)\n"
      ],
      "metadata": {
        "id": "L_abgBQXKYRE"
      },
      "execution_count": null,
      "outputs": []
    },
    {
      "cell_type": "code",
      "source": [
        "NN_model.output"
      ],
      "metadata": {
        "id": "OTmCcpltQ-oE",
        "outputId": "efe60a83-c0e2-4158-fd7c-e54ca67c9587",
        "colab": {
          "base_uri": "https://localhost:8080/"
        }
      },
      "execution_count": 32,
      "outputs": [
        {
          "output_type": "execute_result",
          "data": {
            "text/plain": [
              "<KerasTensor: shape=(None, 1) dtype=float32 (created by layer 'dense_4')>"
            ]
          },
          "metadata": {},
          "execution_count": 32
        }
      ]
    },
    {
      "cell_type": "code",
      "source": [
        ""
      ],
      "metadata": {
        "id": "9IxslHtInXjL"
      },
      "execution_count": null,
      "outputs": []
    }
  ],
  "metadata": {
    "interpreter": {
      "hash": "c879c69e06522817e4609568d3627706e84f6e3919ca12ea4a6436e492954e1f"
    },
    "kernelspec": {
      "display_name": "Python 3.10.4 ('default')",
      "language": "python",
      "name": "python3"
    },
    "language_info": {
      "codemirror_mode": {
        "name": "ipython",
        "version": 3
      },
      "file_extension": ".py",
      "mimetype": "text/x-python",
      "name": "python",
      "nbconvert_exporter": "python",
      "pygments_lexer": "ipython3",
      "version": "3.10.4"
    },
    "orig_nbformat": 4,
    "colab": {
      "name": "2_Training.ipynb",
      "provenance": []
    },
    "accelerator": "GPU"
  },
  "nbformat": 4,
  "nbformat_minor": 0
}