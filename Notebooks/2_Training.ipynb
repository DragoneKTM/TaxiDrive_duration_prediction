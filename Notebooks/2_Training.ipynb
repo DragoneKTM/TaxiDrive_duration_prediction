{
  "cells": [
    {
      "cell_type": "code",
      "execution_count": 55,
      "metadata": {
        "id": "4Fcpe1xa-eUN"
      },
      "outputs": [],
      "source": [
        "import pandas as pd\n",
        "import numpy as np\n",
        "import matplotlib.pyplot as plt\n",
        "from keras.callbacks import ModelCheckpoint\n",
        "from keras.models import Sequential\n",
        "from sklearn.ensemble import RandomForestRegressor\n",
        "from keras.layers import Dense, Activation, Flatten\n",
        "from sklearn.model_selection import train_test_split\n",
        "from sklearn.metrics import mean_squared_log_error\n",
        "from sklearn.model_selection import RandomizedSearchCV\n",
        "from keras.callbacks import EarlyStopping\n",
        "import keras\n",
        "from tensorflow.keras.layers import Dropout\n",
        "from tensorflow.keras.regularizers import l2"
      ]
    },
    {
      "cell_type": "code",
      "execution_count": 5,
      "metadata": {
        "id": "yZ5G31Zj-eUT"
      },
      "outputs": [],
      "source": [
        "#Dataset load\n",
        "ds_train = pd.read_csv(\"/clear_dataset.zip\" , compression=\"zip\")"
      ]
    },
    {
      "cell_type": "code",
      "execution_count": 6,
      "metadata": {
        "id": "ZFCQIB-Q-eUU",
        "outputId": "bb6a44e0-6a2b-4542-c079-39b6edcf3906",
        "colab": {
          "base_uri": "https://localhost:8080/",
          "height": 206
        }
      },
      "outputs": [
        {
          "output_type": "execute_result",
          "data": {
            "text/plain": [
              "   passenger_count  trip_duration  month_pickup  dow_pickup  hour_pickup  \\\n",
              "0                1            455             3           0           17   \n",
              "1                1            663             6           6            0   \n",
              "2                1           2124             1           1           11   \n",
              "3                1            429             4           2           19   \n",
              "4                1            435             3           5           13   \n",
              "\n",
              "   BoroCode   BoroName   dist_km  average_speed  \n",
              "0         1  Manhattan  1.498521      11.856428  \n",
              "1         1  Manhattan  1.805507       9.803659  \n",
              "2         1  Manhattan  6.385098      10.822201  \n",
              "3         1  Manhattan  1.485498      12.465721  \n",
              "4         1  Manhattan  1.188588       9.836594  "
            ],
            "text/html": [
              "\n",
              "  <div id=\"df-8a112a7d-ebad-4d5f-9c47-48cff708f7ee\">\n",
              "    <div class=\"colab-df-container\">\n",
              "      <div>\n",
              "<style scoped>\n",
              "    .dataframe tbody tr th:only-of-type {\n",
              "        vertical-align: middle;\n",
              "    }\n",
              "\n",
              "    .dataframe tbody tr th {\n",
              "        vertical-align: top;\n",
              "    }\n",
              "\n",
              "    .dataframe thead th {\n",
              "        text-align: right;\n",
              "    }\n",
              "</style>\n",
              "<table border=\"1\" class=\"dataframe\">\n",
              "  <thead>\n",
              "    <tr style=\"text-align: right;\">\n",
              "      <th></th>\n",
              "      <th>passenger_count</th>\n",
              "      <th>trip_duration</th>\n",
              "      <th>month_pickup</th>\n",
              "      <th>dow_pickup</th>\n",
              "      <th>hour_pickup</th>\n",
              "      <th>BoroCode</th>\n",
              "      <th>BoroName</th>\n",
              "      <th>dist_km</th>\n",
              "      <th>average_speed</th>\n",
              "    </tr>\n",
              "  </thead>\n",
              "  <tbody>\n",
              "    <tr>\n",
              "      <th>0</th>\n",
              "      <td>1</td>\n",
              "      <td>455</td>\n",
              "      <td>3</td>\n",
              "      <td>0</td>\n",
              "      <td>17</td>\n",
              "      <td>1</td>\n",
              "      <td>Manhattan</td>\n",
              "      <td>1.498521</td>\n",
              "      <td>11.856428</td>\n",
              "    </tr>\n",
              "    <tr>\n",
              "      <th>1</th>\n",
              "      <td>1</td>\n",
              "      <td>663</td>\n",
              "      <td>6</td>\n",
              "      <td>6</td>\n",
              "      <td>0</td>\n",
              "      <td>1</td>\n",
              "      <td>Manhattan</td>\n",
              "      <td>1.805507</td>\n",
              "      <td>9.803659</td>\n",
              "    </tr>\n",
              "    <tr>\n",
              "      <th>2</th>\n",
              "      <td>1</td>\n",
              "      <td>2124</td>\n",
              "      <td>1</td>\n",
              "      <td>1</td>\n",
              "      <td>11</td>\n",
              "      <td>1</td>\n",
              "      <td>Manhattan</td>\n",
              "      <td>6.385098</td>\n",
              "      <td>10.822201</td>\n",
              "    </tr>\n",
              "    <tr>\n",
              "      <th>3</th>\n",
              "      <td>1</td>\n",
              "      <td>429</td>\n",
              "      <td>4</td>\n",
              "      <td>2</td>\n",
              "      <td>19</td>\n",
              "      <td>1</td>\n",
              "      <td>Manhattan</td>\n",
              "      <td>1.485498</td>\n",
              "      <td>12.465721</td>\n",
              "    </tr>\n",
              "    <tr>\n",
              "      <th>4</th>\n",
              "      <td>1</td>\n",
              "      <td>435</td>\n",
              "      <td>3</td>\n",
              "      <td>5</td>\n",
              "      <td>13</td>\n",
              "      <td>1</td>\n",
              "      <td>Manhattan</td>\n",
              "      <td>1.188588</td>\n",
              "      <td>9.836594</td>\n",
              "    </tr>\n",
              "  </tbody>\n",
              "</table>\n",
              "</div>\n",
              "      <button class=\"colab-df-convert\" onclick=\"convertToInteractive('df-8a112a7d-ebad-4d5f-9c47-48cff708f7ee')\"\n",
              "              title=\"Convert this dataframe to an interactive table.\"\n",
              "              style=\"display:none;\">\n",
              "        \n",
              "  <svg xmlns=\"http://www.w3.org/2000/svg\" height=\"24px\"viewBox=\"0 0 24 24\"\n",
              "       width=\"24px\">\n",
              "    <path d=\"M0 0h24v24H0V0z\" fill=\"none\"/>\n",
              "    <path d=\"M18.56 5.44l.94 2.06.94-2.06 2.06-.94-2.06-.94-.94-2.06-.94 2.06-2.06.94zm-11 1L8.5 8.5l.94-2.06 2.06-.94-2.06-.94L8.5 2.5l-.94 2.06-2.06.94zm10 10l.94 2.06.94-2.06 2.06-.94-2.06-.94-.94-2.06-.94 2.06-2.06.94z\"/><path d=\"M17.41 7.96l-1.37-1.37c-.4-.4-.92-.59-1.43-.59-.52 0-1.04.2-1.43.59L10.3 9.45l-7.72 7.72c-.78.78-.78 2.05 0 2.83L4 21.41c.39.39.9.59 1.41.59.51 0 1.02-.2 1.41-.59l7.78-7.78 2.81-2.81c.8-.78.8-2.07 0-2.86zM5.41 20L4 18.59l7.72-7.72 1.47 1.35L5.41 20z\"/>\n",
              "  </svg>\n",
              "      </button>\n",
              "      \n",
              "  <style>\n",
              "    .colab-df-container {\n",
              "      display:flex;\n",
              "      flex-wrap:wrap;\n",
              "      gap: 12px;\n",
              "    }\n",
              "\n",
              "    .colab-df-convert {\n",
              "      background-color: #E8F0FE;\n",
              "      border: none;\n",
              "      border-radius: 50%;\n",
              "      cursor: pointer;\n",
              "      display: none;\n",
              "      fill: #1967D2;\n",
              "      height: 32px;\n",
              "      padding: 0 0 0 0;\n",
              "      width: 32px;\n",
              "    }\n",
              "\n",
              "    .colab-df-convert:hover {\n",
              "      background-color: #E2EBFA;\n",
              "      box-shadow: 0px 1px 2px rgba(60, 64, 67, 0.3), 0px 1px 3px 1px rgba(60, 64, 67, 0.15);\n",
              "      fill: #174EA6;\n",
              "    }\n",
              "\n",
              "    [theme=dark] .colab-df-convert {\n",
              "      background-color: #3B4455;\n",
              "      fill: #D2E3FC;\n",
              "    }\n",
              "\n",
              "    [theme=dark] .colab-df-convert:hover {\n",
              "      background-color: #434B5C;\n",
              "      box-shadow: 0px 1px 3px 1px rgba(0, 0, 0, 0.15);\n",
              "      filter: drop-shadow(0px 1px 2px rgba(0, 0, 0, 0.3));\n",
              "      fill: #FFFFFF;\n",
              "    }\n",
              "  </style>\n",
              "\n",
              "      <script>\n",
              "        const buttonEl =\n",
              "          document.querySelector('#df-8a112a7d-ebad-4d5f-9c47-48cff708f7ee button.colab-df-convert');\n",
              "        buttonEl.style.display =\n",
              "          google.colab.kernel.accessAllowed ? 'block' : 'none';\n",
              "\n",
              "        async function convertToInteractive(key) {\n",
              "          const element = document.querySelector('#df-8a112a7d-ebad-4d5f-9c47-48cff708f7ee');\n",
              "          const dataTable =\n",
              "            await google.colab.kernel.invokeFunction('convertToInteractive',\n",
              "                                                     [key], {});\n",
              "          if (!dataTable) return;\n",
              "\n",
              "          const docLinkHtml = 'Like what you see? Visit the ' +\n",
              "            '<a target=\"_blank\" href=https://colab.research.google.com/notebooks/data_table.ipynb>data table notebook</a>'\n",
              "            + ' to learn more about interactive tables.';\n",
              "          element.innerHTML = '';\n",
              "          dataTable['output_type'] = 'display_data';\n",
              "          await google.colab.output.renderOutput(dataTable, element);\n",
              "          const docLink = document.createElement('div');\n",
              "          docLink.innerHTML = docLinkHtml;\n",
              "          element.appendChild(docLink);\n",
              "        }\n",
              "      </script>\n",
              "    </div>\n",
              "  </div>\n",
              "  "
            ]
          },
          "metadata": {},
          "execution_count": 6
        }
      ],
      "source": [
        "ds_train.head()"
      ]
    },
    {
      "cell_type": "markdown",
      "metadata": {
        "id": "V_ux2m-0-eUV"
      },
      "source": [
        "### One hot encoding categorical features"
      ]
    },
    {
      "cell_type": "code",
      "execution_count": 7,
      "metadata": {
        "id": "ZnS5i3UB-eUX"
      },
      "outputs": [],
      "source": [
        "#one hot encoding variable \"BoroCode\"\n",
        "def oneHotEncode(df,colNames):\n",
        "    for col in colNames:\n",
        "        if( df[col].dtype == np.dtype('int64')):\n",
        "            dummies = pd.get_dummies(df[col],prefix=col)\n",
        "            df = pd.concat([df,dummies],axis=1)\n",
        "\n",
        "            #drop the encoded column\n",
        "            df.drop([col],axis = 1 , inplace=True)\n",
        "    return df\n",
        "ds_train = oneHotEncode(ds_train, [\"BoroCode\"])"
      ]
    },
    {
      "cell_type": "markdown",
      "metadata": {
        "id": "pm9wgM5V-eUY"
      },
      "source": [
        "### Circular predictors for hours, month and day_of_week variables"
      ]
    },
    {
      "cell_type": "code",
      "execution_count": 8,
      "metadata": {
        "id": "O9eoHaJs-eUZ"
      },
      "outputs": [],
      "source": [
        "#hours\n",
        "ds_train['sin_hour_pickup'] = np.sin(2*np.pi*ds_train.hour_pickup/24)\n",
        "ds_train['cos__hour_pickup'] = np.cos(2*np.pi*ds_train.hour_pickup/24)\n",
        "ds_train.drop('hour_pickup', axis=1, inplace=True)"
      ]
    },
    {
      "cell_type": "code",
      "execution_count": 9,
      "metadata": {
        "id": "sgoJ3yUr-eUa"
      },
      "outputs": [],
      "source": [
        "#month\n",
        "ds_train['sin_month_pickup'] = np.sin(2*np.pi*ds_train.month_pickup/12)\n",
        "ds_train['cos__month_pickup'] = np.cos(2*np.pi*ds_train.month_pickup/12)\n",
        "ds_train.drop('month_pickup', axis=1, inplace=True)"
      ]
    },
    {
      "cell_type": "code",
      "execution_count": 10,
      "metadata": {
        "id": "2a-EYYZD-eUb"
      },
      "outputs": [],
      "source": [
        "#day of the week\n",
        "ds_train['sin_dow_pickup'] = np.sin(2*np.pi*ds_train.dow_pickup/7)\n",
        "ds_train['cos__dow_pickup'] = np.cos(2*np.pi*ds_train.dow_pickup/7)\n",
        "ds_train.drop('dow_pickup', axis=1, inplace=True)"
      ]
    },
    {
      "cell_type": "markdown",
      "metadata": {
        "id": "J4WZn8Uq-eUb"
      },
      "source": [
        "### Feature selection\n"
      ]
    },
    {
      "cell_type": "markdown",
      "metadata": {
        "id": "gg97a0ch-eUc"
      },
      "source": [
        "Removal average speed since it is calculated based on the predicted variable"
      ]
    },
    {
      "cell_type": "code",
      "execution_count": 11,
      "metadata": {
        "id": "xXypLQjV-eUc"
      },
      "outputs": [],
      "source": [
        "ds_train.drop(['average_speed', \"BoroName\"], axis=1, inplace=True)"
      ]
    },
    {
      "cell_type": "markdown",
      "source": [
        "### Y and X variables\n"
      ],
      "metadata": {
        "id": "_H7JPA30IkFj"
      }
    },
    {
      "cell_type": "code",
      "source": [
        "#predict variable split\n",
        "y_values = ds_train[\"trip_duration\"]\n",
        "x_values = ds_train.drop([\"trip_duration\"],axis=1)"
      ],
      "metadata": {
        "id": "EWCprKiBIoF0"
      },
      "execution_count": 12,
      "outputs": []
    },
    {
      "cell_type": "markdown",
      "source": [
        "## Random forest model as benchmark"
      ],
      "metadata": {
        "id": "b9_kC48fHuEX"
      }
    },
    {
      "cell_type": "code",
      "source": [
        "#split in train e validation set\n",
        "train_X, val_X, train_y, val_y = train_test_split(x_values, y_values, test_size = 0.25, random_state = 12)\n",
        "\n",
        "random_grid = {'max_depth': [5, 10, 12, 14]}\n",
        "random_forest = RandomForestRegressor()\n",
        "random_forest_grid = RandomizedSearchCV(estimator = random_forest, param_distributions = random_grid, n_iter = 100, cv = 3, verbose=2, random_state=42, n_jobs = -1)\n",
        "\n",
        "random_forest_grid.fit(train_X, train_y)\n",
        "\n",
        "predicted_trip_duration = random_forest_grid.predict(val_X)\n",
        "MSLE = \tmean_squared_log_error(val_y , predicted_trip_duration)\n",
        "print('Random forest validation MSLE = ', MSLE)"
      ],
      "metadata": {
        "id": "8XBPaVS-H7ug",
        "outputId": "bf111095-d580-4ee2-a23a-6b9149a2b688",
        "colab": {
          "base_uri": "https://localhost:8080/"
        }
      },
      "execution_count": null,
      "outputs": [
        {
          "output_type": "stream",
          "name": "stdout",
          "text": [
            "Fitting 3 folds for each of 4 candidates, totalling 12 fits\n"
          ]
        },
        {
          "output_type": "stream",
          "name": "stderr",
          "text": [
            "/usr/local/lib/python3.7/dist-packages/sklearn/model_selection/_search.py:296: UserWarning: The total space of parameters 4 is smaller than n_iter=100. Running 4 iterations. For exhaustive searches, use GridSearchCV.\n",
            "  UserWarning,\n"
          ]
        },
        {
          "output_type": "stream",
          "name": "stdout",
          "text": [
            "Random forest validation MSLE =  0.18749680681619824\n"
          ]
        }
      ]
    },
    {
      "cell_type": "code",
      "source": [
        "random_forest_grid.best_estimator_"
      ],
      "metadata": {
        "id": "Z4ii9K2R07tW",
        "outputId": "2806f6e6-edb3-4ff6-8e24-1958bcd6cb14",
        "colab": {
          "base_uri": "https://localhost:8080/"
        }
      },
      "execution_count": null,
      "outputs": [
        {
          "output_type": "execute_result",
          "data": {
            "text/plain": [
              "RandomForestRegressor(max_depth=12)"
            ]
          },
          "metadata": {},
          "execution_count": 44
        }
      ]
    },
    {
      "cell_type": "code",
      "source": [
        "importances = pd.DataFrame({'feature':train_X.columns,'importance':np.round(random_forest_grid.best_estimator_.feature_importances_,3)})\n",
        "importances = importances.sort_values('importance',ascending=False).set_index('feature')\n",
        "importances.plot.bar()"
      ],
      "metadata": {
        "id": "wIqi4qgkbSyq",
        "outputId": "48b2f9ea-6e6c-4833-875f-aa0ac2f15a87",
        "colab": {
          "base_uri": "https://localhost:8080/",
          "height": 383
        }
      },
      "execution_count": null,
      "outputs": [
        {
          "output_type": "execute_result",
          "data": {
            "text/plain": [
              "<matplotlib.axes._subplots.AxesSubplot at 0x7f68cc31c210>"
            ]
          },
          "metadata": {},
          "execution_count": 45
        },
        {
          "output_type": "display_data",
          "data": {
            "text/plain": [
              "<Figure size 432x288 with 1 Axes>"
            ],
            "image/png": "[encoded data removed]"
          },
          "metadata": {
            "needs_background": "light"
          }
        }
      ]
    },
    {
      "cell_type": "markdown",
      "metadata": {
        "id": "ngcRd7a3-eUd"
      },
      "source": [
        "# Train vanilla neural network"
      ]
    },
    {
      "cell_type": "code",
      "execution_count": 66,
      "metadata": {
        "id": "Lw8V_sK2-eUd",
        "outputId": "91fd7129-d839-472b-e5fb-16c9ca0824db",
        "colab": {
          "base_uri": "https://localhost:8080/"
        }
      },
      "outputs": [
        {
          "output_type": "stream",
          "name": "stdout",
          "text": [
            "Model: \"sequential_7\"\n",
            "_________________________________________________________________\n",
            " Layer (type)                Output Shape              Param #   \n",
            "=================================================================\n",
            " dense_30 (Dense)            (None, 128)               1792      \n",
            "                                                                 \n",
            " dense_31 (Dense)            (None, 256)               33024     \n",
            "                                                                 \n",
            " dense_32 (Dense)            (None, 256)               65792     \n",
            "                                                                 \n",
            " dense_33 (Dense)            (None, 256)               65792     \n",
            "                                                                 \n",
            " dense_34 (Dense)            (None, 1)                 257       \n",
            "                                                                 \n",
            "=================================================================\n",
            "Total params: 166,657\n",
            "Trainable params: 166,657\n",
            "Non-trainable params: 0\n",
            "_________________________________________________________________\n"
          ]
        }
      ],
      "source": [
        "NN_model = Sequential()\n",
        "\n",
        "# The Input Layer :\n",
        "NN_model.add(Dense(128, kernel_initializer='normal',input_dim = ds_train.shape[1]-1, activation='relu'))\n",
        "\n",
        "# The Hidden Layers :\n",
        "NN_model.add(Dense(256, kernel_initializer='normal',activation='relu'))\n",
        "NN_model.add(Dense(256, kernel_initializer='normal',activation='relu'))\n",
        "NN_model.add(Dense(256, kernel_initializer='normal',activation='relu'))\n",
        "\n",
        "# The Output Layer :\n",
        "NN_model.add(Dense(1, kernel_initializer='normal',activation='linear'))\n",
        "\n",
        "# Compile the network :\n",
        "NN_model.compile(loss=keras.losses.MeanSquaredLogarithmicError(), optimizer='adam', metrics=keras.losses.MeanSquaredLogarithmicError())\n",
        "NN_model.summary()"
      ]
    },
    {
      "cell_type": "code",
      "source": [
        "#set checkpoints\n",
        "checkpoint_name = 'Weights-{epoch:03d}--{val_loss:.5f}.hdf5' \n",
        "checkpoint = ModelCheckpoint(checkpoint_name, monitor='val_mean_squared_logarithmic_error', verbose = 1, save_best_only = True, mode ='auto')\n",
        "callbacks_list = [checkpoint]"
      ],
      "metadata": {
        "id": "h-LR5odPKOnz"
      },
      "execution_count": 67,
      "outputs": []
    },
    {
      "cell_type": "code",
      "source": [
        "history = NN_model.fit(x_values, y_values, epochs=50, batch_size=1024, validation_split = 0.25, callbacks=[callbacks_list])\n"
      ],
      "metadata": {
        "id": "L_abgBQXKYRE",
        "outputId": "ce0818a5-748d-4ac0-f987-9bc7338c200b",
        "colab": {
          "base_uri": "https://localhost:8080/"
        }
      },
      "execution_count": 68,
      "outputs": [
        {
          "output_type": "stream",
          "name": "stdout",
          "text": [
            "Epoch 1/50\n",
            "1061/1062 [============================>.] - ETA: 0s - loss: 0.7781 - mean_squared_logarithmic_error: 0.7781\n",
            "Epoch 1: val_mean_squared_logarithmic_error improved from inf to 0.19462, saving model to Weights-001--0.19456.hdf5\n",
            "1062/1062 [==============================] - 35s 33ms/step - loss: 0.7777 - mean_squared_logarithmic_error: 0.7775 - val_loss: 0.1946 - val_mean_squared_logarithmic_error: 0.1946\n",
            "Epoch 2/50\n",
            "1061/1062 [============================>.] - ETA: 0s - loss: 0.1789 - mean_squared_logarithmic_error: 0.1789\n",
            "Epoch 2: val_mean_squared_logarithmic_error improved from 0.19462 to 0.19258, saving model to Weights-002--0.19253.hdf5\n",
            "1062/1062 [==============================] - 32s 30ms/step - loss: 0.1789 - mean_squared_logarithmic_error: 0.1789 - val_loss: 0.1925 - val_mean_squared_logarithmic_error: 0.1926\n",
            "Epoch 3/50\n",
            "1062/1062 [==============================] - ETA: 0s - loss: 0.1765 - mean_squared_logarithmic_error: 0.1765\n",
            "Epoch 3: val_mean_squared_logarithmic_error did not improve from 0.19258\n",
            "1062/1062 [==============================] - 33s 31ms/step - loss: 0.1765 - mean_squared_logarithmic_error: 0.1765 - val_loss: 0.1989 - val_mean_squared_logarithmic_error: 0.1989\n",
            "Epoch 4/50\n",
            "1061/1062 [============================>.] - ETA: 0s - loss: 0.1754 - mean_squared_logarithmic_error: 0.1754\n",
            "Epoch 4: val_mean_squared_logarithmic_error did not improve from 0.19258\n",
            "1062/1062 [==============================] - 33s 31ms/step - loss: 0.1754 - mean_squared_logarithmic_error: 0.1754 - val_loss: 0.1941 - val_mean_squared_logarithmic_error: 0.1942\n",
            "Epoch 5/50\n",
            "1061/1062 [============================>.] - ETA: 0s - loss: 0.1749 - mean_squared_logarithmic_error: 0.1749\n",
            "Epoch 5: val_mean_squared_logarithmic_error did not improve from 0.19258\n",
            "1062/1062 [==============================] - 32s 30ms/step - loss: 0.1749 - mean_squared_logarithmic_error: 0.1749 - val_loss: 0.1954 - val_mean_squared_logarithmic_error: 0.1954\n",
            "Epoch 6/50\n",
            "1061/1062 [============================>.] - ETA: 0s - loss: 0.1746 - mean_squared_logarithmic_error: 0.1746\n",
            "Epoch 6: val_mean_squared_logarithmic_error did not improve from 0.19258\n",
            "1062/1062 [==============================] - 32s 30ms/step - loss: 0.1746 - mean_squared_logarithmic_error: 0.1746 - val_loss: 0.1963 - val_mean_squared_logarithmic_error: 0.1964\n",
            "Epoch 7/50\n",
            "1061/1062 [============================>.] - ETA: 0s - loss: 0.1742 - mean_squared_logarithmic_error: 0.1742\n",
            "Epoch 7: val_mean_squared_logarithmic_error did not improve from 0.19258\n",
            "1062/1062 [==============================] - 32s 30ms/step - loss: 0.1742 - mean_squared_logarithmic_error: 0.1742 - val_loss: 0.1977 - val_mean_squared_logarithmic_error: 0.1977\n",
            "Epoch 8/50\n",
            "1062/1062 [==============================] - ETA: 0s - loss: 0.1740 - mean_squared_logarithmic_error: 0.1740\n",
            "Epoch 8: val_mean_squared_logarithmic_error did not improve from 0.19258\n",
            "1062/1062 [==============================] - 32s 30ms/step - loss: 0.1740 - mean_squared_logarithmic_error: 0.1740 - val_loss: 0.1980 - val_mean_squared_logarithmic_error: 0.1981\n",
            "Epoch 9/50\n",
            "1061/1062 [============================>.] - ETA: 0s - loss: 0.1736 - mean_squared_logarithmic_error: 0.1736\n",
            "Epoch 9: val_mean_squared_logarithmic_error did not improve from 0.19258\n",
            "1062/1062 [==============================] - 32s 30ms/step - loss: 0.1736 - mean_squared_logarithmic_error: 0.1736 - val_loss: 0.1951 - val_mean_squared_logarithmic_error: 0.1952\n",
            "Epoch 10/50\n",
            "1061/1062 [============================>.] - ETA: 0s - loss: 0.1733 - mean_squared_logarithmic_error: 0.1733\n",
            "Epoch 10: val_mean_squared_logarithmic_error did not improve from 0.19258\n",
            "1062/1062 [==============================] - 32s 30ms/step - loss: 0.1733 - mean_squared_logarithmic_error: 0.1733 - val_loss: 0.1997 - val_mean_squared_logarithmic_error: 0.1998\n",
            "Epoch 11/50\n",
            "1061/1062 [============================>.] - ETA: 0s - loss: 0.1731 - mean_squared_logarithmic_error: 0.1731\n",
            "Epoch 11: val_mean_squared_logarithmic_error did not improve from 0.19258\n",
            "1062/1062 [==============================] - 32s 30ms/step - loss: 0.1732 - mean_squared_logarithmic_error: 0.1732 - val_loss: 0.1958 - val_mean_squared_logarithmic_error: 0.1959\n",
            "Epoch 12/50\n",
            "1061/1062 [============================>.] - ETA: 0s - loss: 0.1730 - mean_squared_logarithmic_error: 0.1730\n",
            "Epoch 12: val_mean_squared_logarithmic_error did not improve from 0.19258\n",
            "1062/1062 [==============================] - 33s 31ms/step - loss: 0.1730 - mean_squared_logarithmic_error: 0.1730 - val_loss: 0.1968 - val_mean_squared_logarithmic_error: 0.1969\n",
            "Epoch 13/50\n",
            "1062/1062 [==============================] - ETA: 0s - loss: 0.1729 - mean_squared_logarithmic_error: 0.1729\n",
            "Epoch 13: val_mean_squared_logarithmic_error did not improve from 0.19258\n",
            "1062/1062 [==============================] - 32s 30ms/step - loss: 0.1729 - mean_squared_logarithmic_error: 0.1729 - val_loss: 0.1971 - val_mean_squared_logarithmic_error: 0.1972\n",
            "Epoch 14/50\n",
            "1061/1062 [============================>.] - ETA: 0s - loss: 0.1727 - mean_squared_logarithmic_error: 0.1727\n",
            "Epoch 14: val_mean_squared_logarithmic_error did not improve from 0.19258\n",
            "1062/1062 [==============================] - 32s 30ms/step - loss: 0.1727 - mean_squared_logarithmic_error: 0.1727 - val_loss: 0.1970 - val_mean_squared_logarithmic_error: 0.1971\n",
            "Epoch 15/50\n",
            "1062/1062 [==============================] - ETA: 0s - loss: 0.1725 - mean_squared_logarithmic_error: 0.1725\n",
            "Epoch 15: val_mean_squared_logarithmic_error did not improve from 0.19258\n",
            "1062/1062 [==============================] - 34s 32ms/step - loss: 0.1725 - mean_squared_logarithmic_error: 0.1725 - val_loss: 0.1978 - val_mean_squared_logarithmic_error: 0.1979\n",
            "Epoch 16/50\n",
            "1061/1062 [============================>.] - ETA: 0s - loss: 0.1724 - mean_squared_logarithmic_error: 0.1724\n",
            "Epoch 16: val_mean_squared_logarithmic_error did not improve from 0.19258\n",
            "1062/1062 [==============================] - 32s 30ms/step - loss: 0.1724 - mean_squared_logarithmic_error: 0.1724 - val_loss: 0.1945 - val_mean_squared_logarithmic_error: 0.1945\n",
            "Epoch 17/50\n",
            "1061/1062 [============================>.] - ETA: 0s - loss: 0.1722 - mean_squared_logarithmic_error: 0.1722\n",
            "Epoch 17: val_mean_squared_logarithmic_error did not improve from 0.19258\n",
            "1062/1062 [==============================] - 32s 30ms/step - loss: 0.1722 - mean_squared_logarithmic_error: 0.1722 - val_loss: 0.1983 - val_mean_squared_logarithmic_error: 0.1984\n",
            "Epoch 18/50\n",
            "1061/1062 [============================>.] - ETA: 0s - loss: 0.1721 - mean_squared_logarithmic_error: 0.1721\n",
            "Epoch 18: val_mean_squared_logarithmic_error did not improve from 0.19258\n",
            "1062/1062 [==============================] - 32s 30ms/step - loss: 0.1721 - mean_squared_logarithmic_error: 0.1721 - val_loss: 0.1963 - val_mean_squared_logarithmic_error: 0.1964\n",
            "Epoch 19/50\n",
            "1061/1062 [============================>.] - ETA: 0s - loss: 0.1720 - mean_squared_logarithmic_error: 0.1720\n",
            "Epoch 19: val_mean_squared_logarithmic_error did not improve from 0.19258\n",
            "1062/1062 [==============================] - 32s 30ms/step - loss: 0.1720 - mean_squared_logarithmic_error: 0.1720 - val_loss: 0.1958 - val_mean_squared_logarithmic_error: 0.1959\n",
            "Epoch 20/50\n",
            "1061/1062 [============================>.] - ETA: 0s - loss: 0.1718 - mean_squared_logarithmic_error: 0.1718\n",
            "Epoch 20: val_mean_squared_logarithmic_error did not improve from 0.19258\n",
            "1062/1062 [==============================] - 32s 30ms/step - loss: 0.1718 - mean_squared_logarithmic_error: 0.1718 - val_loss: 0.1946 - val_mean_squared_logarithmic_error: 0.1947\n",
            "Epoch 21/50\n",
            "1061/1062 [============================>.] - ETA: 0s - loss: 0.1716 - mean_squared_logarithmic_error: 0.1716\n",
            "Epoch 21: val_mean_squared_logarithmic_error did not improve from 0.19258\n",
            "1062/1062 [==============================] - 32s 30ms/step - loss: 0.1716 - mean_squared_logarithmic_error: 0.1716 - val_loss: 0.1944 - val_mean_squared_logarithmic_error: 0.1945\n",
            "Epoch 22/50\n",
            "1061/1062 [============================>.] - ETA: 0s - loss: 0.1715 - mean_squared_logarithmic_error: 0.1715\n",
            "Epoch 22: val_mean_squared_logarithmic_error did not improve from 0.19258\n",
            "1062/1062 [==============================] - 32s 30ms/step - loss: 0.1715 - mean_squared_logarithmic_error: 0.1715 - val_loss: 0.1956 - val_mean_squared_logarithmic_error: 0.1957\n",
            "Epoch 23/50\n",
            "1061/1062 [============================>.] - ETA: 0s - loss: 0.1712 - mean_squared_logarithmic_error: 0.1712\n",
            "Epoch 23: val_mean_squared_logarithmic_error did not improve from 0.19258\n",
            "1062/1062 [==============================] - 32s 30ms/step - loss: 0.1712 - mean_squared_logarithmic_error: 0.1712 - val_loss: 0.1966 - val_mean_squared_logarithmic_error: 0.1967\n",
            "Epoch 24/50\n",
            "1061/1062 [============================>.] - ETA: 0s - loss: 0.1714 - mean_squared_logarithmic_error: 0.1714\n",
            "Epoch 24: val_mean_squared_logarithmic_error did not improve from 0.19258\n",
            "1062/1062 [==============================] - 32s 30ms/step - loss: 0.1714 - mean_squared_logarithmic_error: 0.1714 - val_loss: 0.1963 - val_mean_squared_logarithmic_error: 0.1964\n",
            "Epoch 25/50\n",
            "1061/1062 [============================>.] - ETA: 0s - loss: 0.1710 - mean_squared_logarithmic_error: 0.1710\n",
            "Epoch 25: val_mean_squared_logarithmic_error did not improve from 0.19258\n",
            "1062/1062 [==============================] - 32s 30ms/step - loss: 0.1709 - mean_squared_logarithmic_error: 0.1709 - val_loss: 0.1972 - val_mean_squared_logarithmic_error: 0.1973\n",
            "Epoch 26/50\n",
            "1061/1062 [============================>.] - ETA: 0s - loss: 0.1708 - mean_squared_logarithmic_error: 0.1708\n",
            "Epoch 26: val_mean_squared_logarithmic_error did not improve from 0.19258\n",
            "1062/1062 [==============================] - 32s 30ms/step - loss: 0.1709 - mean_squared_logarithmic_error: 0.1709 - val_loss: 0.1969 - val_mean_squared_logarithmic_error: 0.1970\n",
            "Epoch 27/50\n",
            "1061/1062 [============================>.] - ETA: 0s - loss: 0.1708 - mean_squared_logarithmic_error: 0.1708\n",
            "Epoch 27: val_mean_squared_logarithmic_error did not improve from 0.19258\n",
            "1062/1062 [==============================] - 32s 30ms/step - loss: 0.1708 - mean_squared_logarithmic_error: 0.1708 - val_loss: 0.1946 - val_mean_squared_logarithmic_error: 0.1946\n",
            "Epoch 28/50\n",
            "1061/1062 [============================>.] - ETA: 0s - loss: 0.1708 - mean_squared_logarithmic_error: 0.1708\n",
            "Epoch 28: val_mean_squared_logarithmic_error did not improve from 0.19258\n",
            "1062/1062 [==============================] - 32s 30ms/step - loss: 0.1708 - mean_squared_logarithmic_error: 0.1708 - val_loss: 0.1945 - val_mean_squared_logarithmic_error: 0.1946\n",
            "Epoch 29/50\n",
            "1061/1062 [============================>.] - ETA: 0s - loss: 0.1706 - mean_squared_logarithmic_error: 0.1706\n",
            "Epoch 29: val_mean_squared_logarithmic_error did not improve from 0.19258\n",
            "1062/1062 [==============================] - 32s 30ms/step - loss: 0.1706 - mean_squared_logarithmic_error: 0.1706 - val_loss: 0.1970 - val_mean_squared_logarithmic_error: 0.1971\n",
            "Epoch 30/50\n",
            "1061/1062 [============================>.] - ETA: 0s - loss: 0.1703 - mean_squared_logarithmic_error: 0.1703\n",
            "Epoch 30: val_mean_squared_logarithmic_error did not improve from 0.19258\n",
            "1062/1062 [==============================] - 32s 31ms/step - loss: 0.1703 - mean_squared_logarithmic_error: 0.1703 - val_loss: 0.1948 - val_mean_squared_logarithmic_error: 0.1949\n",
            "Epoch 31/50\n",
            "1061/1062 [============================>.] - ETA: 0s - loss: 0.1703 - mean_squared_logarithmic_error: 0.1703\n",
            "Epoch 31: val_mean_squared_logarithmic_error did not improve from 0.19258\n",
            "1062/1062 [==============================] - 32s 31ms/step - loss: 0.1703 - mean_squared_logarithmic_error: 0.1703 - val_loss: 0.1949 - val_mean_squared_logarithmic_error: 0.1949\n",
            "Epoch 32/50\n",
            "1061/1062 [============================>.] - ETA: 0s - loss: 0.1704 - mean_squared_logarithmic_error: 0.1704\n",
            "Epoch 32: val_mean_squared_logarithmic_error did not improve from 0.19258\n",
            "1062/1062 [==============================] - 33s 31ms/step - loss: 0.1704 - mean_squared_logarithmic_error: 0.1704 - val_loss: 0.1936 - val_mean_squared_logarithmic_error: 0.1937\n",
            "Epoch 33/50\n",
            "1061/1062 [============================>.] - ETA: 0s - loss: 0.1701 - mean_squared_logarithmic_error: 0.1701\n",
            "Epoch 33: val_mean_squared_logarithmic_error did not improve from 0.19258\n",
            "1062/1062 [==============================] - 33s 31ms/step - loss: 0.1701 - mean_squared_logarithmic_error: 0.1701 - val_loss: 0.1965 - val_mean_squared_logarithmic_error: 0.1966\n",
            "Epoch 34/50\n",
            "1061/1062 [============================>.] - ETA: 0s - loss: 0.1700 - mean_squared_logarithmic_error: 0.1700\n",
            "Epoch 34: val_mean_squared_logarithmic_error did not improve from 0.19258\n",
            "1062/1062 [==============================] - 32s 30ms/step - loss: 0.1700 - mean_squared_logarithmic_error: 0.1700 - val_loss: 0.1959 - val_mean_squared_logarithmic_error: 0.1960\n",
            "Epoch 35/50\n",
            "1062/1062 [==============================] - ETA: 0s - loss: 0.1699 - mean_squared_logarithmic_error: 0.1699\n",
            "Epoch 35: val_mean_squared_logarithmic_error did not improve from 0.19258\n",
            "1062/1062 [==============================] - 33s 31ms/step - loss: 0.1699 - mean_squared_logarithmic_error: 0.1699 - val_loss: 0.1953 - val_mean_squared_logarithmic_error: 0.1954\n",
            "Epoch 36/50\n",
            "1061/1062 [============================>.] - ETA: 0s - loss: 0.1699 - mean_squared_logarithmic_error: 0.1699\n",
            "Epoch 36: val_mean_squared_logarithmic_error did not improve from 0.19258\n",
            "1062/1062 [==============================] - 32s 30ms/step - loss: 0.1700 - mean_squared_logarithmic_error: 0.1700 - val_loss: 0.1970 - val_mean_squared_logarithmic_error: 0.1971\n",
            "Epoch 37/50\n",
            "1061/1062 [============================>.] - ETA: 0s - loss: 0.1698 - mean_squared_logarithmic_error: 0.1698\n",
            "Epoch 37: val_mean_squared_logarithmic_error did not improve from 0.19258\n",
            "1062/1062 [==============================] - 32s 30ms/step - loss: 0.1698 - mean_squared_logarithmic_error: 0.1698 - val_loss: 0.1966 - val_mean_squared_logarithmic_error: 0.1967\n",
            "Epoch 38/50\n",
            "1061/1062 [============================>.] - ETA: 0s - loss: 0.1699 - mean_squared_logarithmic_error: 0.1699\n",
            "Epoch 38: val_mean_squared_logarithmic_error did not improve from 0.19258\n",
            "1062/1062 [==============================] - 32s 30ms/step - loss: 0.1699 - mean_squared_logarithmic_error: 0.1699 - val_loss: 0.1974 - val_mean_squared_logarithmic_error: 0.1975\n",
            "Epoch 39/50\n",
            "1061/1062 [============================>.] - ETA: 0s - loss: 0.1697 - mean_squared_logarithmic_error: 0.1697\n",
            "Epoch 39: val_mean_squared_logarithmic_error did not improve from 0.19258\n",
            "1062/1062 [==============================] - 33s 31ms/step - loss: 0.1697 - mean_squared_logarithmic_error: 0.1697 - val_loss: 0.1980 - val_mean_squared_logarithmic_error: 0.1981\n",
            "Epoch 40/50\n",
            "1061/1062 [============================>.] - ETA: 0s - loss: 0.1696 - mean_squared_logarithmic_error: 0.1696\n",
            "Epoch 40: val_mean_squared_logarithmic_error did not improve from 0.19258\n",
            "1062/1062 [==============================] - 33s 31ms/step - loss: 0.1696 - mean_squared_logarithmic_error: 0.1696 - val_loss: 0.1980 - val_mean_squared_logarithmic_error: 0.1981\n",
            "Epoch 41/50\n",
            "1062/1062 [==============================] - ETA: 0s - loss: 0.1697 - mean_squared_logarithmic_error: 0.1697\n",
            "Epoch 41: val_mean_squared_logarithmic_error did not improve from 0.19258\n",
            "1062/1062 [==============================] - 32s 31ms/step - loss: 0.1697 - mean_squared_logarithmic_error: 0.1697 - val_loss: 0.1981 - val_mean_squared_logarithmic_error: 0.1982\n",
            "Epoch 42/50\n",
            "1062/1062 [==============================] - ETA: 0s - loss: 0.1695 - mean_squared_logarithmic_error: 0.1695\n",
            "Epoch 42: val_mean_squared_logarithmic_error did not improve from 0.19258\n",
            "1062/1062 [==============================] - 33s 31ms/step - loss: 0.1695 - mean_squared_logarithmic_error: 0.1695 - val_loss: 0.1949 - val_mean_squared_logarithmic_error: 0.1950\n",
            "Epoch 43/50\n",
            "1061/1062 [============================>.] - ETA: 0s - loss: 0.1694 - mean_squared_logarithmic_error: 0.1694\n",
            "Epoch 43: val_mean_squared_logarithmic_error did not improve from 0.19258\n",
            "1062/1062 [==============================] - 32s 30ms/step - loss: 0.1694 - mean_squared_logarithmic_error: 0.1694 - val_loss: 0.1992 - val_mean_squared_logarithmic_error: 0.1993\n",
            "Epoch 44/50\n",
            "1061/1062 [============================>.] - ETA: 0s - loss: 0.1693 - mean_squared_logarithmic_error: 0.1693\n",
            "Epoch 44: val_mean_squared_logarithmic_error did not improve from 0.19258\n",
            "1062/1062 [==============================] - 32s 31ms/step - loss: 0.1693 - mean_squared_logarithmic_error: 0.1693 - val_loss: 0.1988 - val_mean_squared_logarithmic_error: 0.1989\n",
            "Epoch 45/50\n",
            "1061/1062 [============================>.] - ETA: 0s - loss: 0.1694 - mean_squared_logarithmic_error: 0.1694\n",
            "Epoch 45: val_mean_squared_logarithmic_error did not improve from 0.19258\n",
            "1062/1062 [==============================] - 32s 30ms/step - loss: 0.1694 - mean_squared_logarithmic_error: 0.1694 - val_loss: 0.1995 - val_mean_squared_logarithmic_error: 0.1996\n",
            "Epoch 46/50\n",
            "1061/1062 [============================>.] - ETA: 0s - loss: 0.1692 - mean_squared_logarithmic_error: 0.1692\n",
            "Epoch 46: val_mean_squared_logarithmic_error did not improve from 0.19258\n",
            "1062/1062 [==============================] - 32s 30ms/step - loss: 0.1692 - mean_squared_logarithmic_error: 0.1692 - val_loss: 0.1997 - val_mean_squared_logarithmic_error: 0.1998\n",
            "Epoch 47/50\n",
            "1061/1062 [============================>.] - ETA: 0s - loss: 0.1693 - mean_squared_logarithmic_error: 0.1693\n",
            "Epoch 47: val_mean_squared_logarithmic_error did not improve from 0.19258\n",
            "1062/1062 [==============================] - 32s 30ms/step - loss: 0.1693 - mean_squared_logarithmic_error: 0.1693 - val_loss: 0.2023 - val_mean_squared_logarithmic_error: 0.2024\n",
            "Epoch 48/50\n",
            "1061/1062 [============================>.] - ETA: 0s - loss: 0.1693 - mean_squared_logarithmic_error: 0.1693\n",
            "Epoch 48: val_mean_squared_logarithmic_error did not improve from 0.19258\n",
            "1062/1062 [==============================] - 33s 31ms/step - loss: 0.1693 - mean_squared_logarithmic_error: 0.1693 - val_loss: 0.2028 - val_mean_squared_logarithmic_error: 0.2029\n",
            "Epoch 49/50\n",
            "1061/1062 [============================>.] - ETA: 0s - loss: 0.1692 - mean_squared_logarithmic_error: 0.1692\n",
            "Epoch 49: val_mean_squared_logarithmic_error did not improve from 0.19258\n",
            "1062/1062 [==============================] - 33s 31ms/step - loss: 0.1692 - mean_squared_logarithmic_error: 0.1692 - val_loss: 0.2022 - val_mean_squared_logarithmic_error: 0.2023\n",
            "Epoch 50/50\n",
            "1061/1062 [============================>.] - ETA: 0s - loss: 0.1691 - mean_squared_logarithmic_error: 0.1691\n",
            "Epoch 50: val_mean_squared_logarithmic_error did not improve from 0.19258\n",
            "1062/1062 [==============================] - 32s 30ms/step - loss: 0.1691 - mean_squared_logarithmic_error: 0.1691 - val_loss: 0.2045 - val_mean_squared_logarithmic_error: 0.2046\n"
          ]
        }
      ]
    },
    {
      "cell_type": "code",
      "source": [
        "#plot the viz of train and val error\n",
        "plt.plot(history.history['mean_squared_logarithmic_error'])\n",
        "plt.plot(history.history['val_mean_squared_logarithmic_error'])\n",
        "plt.title('model loss')\n",
        "plt.ylabel('loss')\n",
        "plt.xlabel('epoch')\n",
        "plt.legend(['train', 'test'], loc='upper left')\n",
        "plt.show()"
      ],
      "metadata": {
        "id": "OTmCcpltQ-oE",
        "outputId": "92bb8ab7-5b44-47f7-aabd-e2c1bf83805b",
        "colab": {
          "base_uri": "https://localhost:8080/",
          "height": 295
        }
      },
      "execution_count": 69,
      "outputs": [
        {
          "output_type": "display_data",
          "data": {
            "text/plain": [
              "<Figure size 432x288 with 1 Axes>"
            ],
            "image/png": "[encoded data removed]"
          },
          "metadata": {
            "needs_background": "light"
          }
        }
      ]
    },
    {
      "cell_type": "markdown",
      "source": [
        "## Fix overfitting"
      ],
      "metadata": {
        "id": "bssMJ0CRtqGL"
      }
    },
    {
      "cell_type": "markdown",
      "source": [
        "Add L2 regularization and dropout"
      ],
      "metadata": {
        "id": "KXtpgdKLuvkS"
      }
    },
    {
      "cell_type": "code",
      "source": [
        "#L2 factor\n",
        "factor=0.0001\n",
        "#Dropout rate\n",
        "rate=0.3\n",
        "\n",
        "NN_model = Sequential()\n",
        "# The Input Layer :\n",
        "NN_model.add(Dense(128, kernel_initializer='normal',input_dim = ds_train.shape[1]-1, kernel_regularizer=l2(factor), activation='relu'))\n",
        "NN_model.add\n",
        "\n",
        "# The Hidden Layers :\n",
        "NN_model.add(Dense(256, kernel_initializer='normal', kernel_regularizer=l2(factor), activation='relu'))\n",
        "NN_model.add(Dropout(rate))\n",
        "NN_model.add(Dense(256, kernel_initializer='normal', kernel_regularizer=l2(factor), activation='relu'))\n",
        "NN_model.add(Dropout(rate))\n",
        "NN_model.add(Dense(256, kernel_initializer='normal', kernel_regularizer=l2(factor), activation='relu'))\n",
        "NN_model.add(Dropout(rate))\n",
        "\n",
        "# The Output Layer :\n",
        "NN_model.add(Dense(1, kernel_initializer='normal',activation='linear'))\n",
        "\n",
        "# Compile the network :\n",
        "NN_model.compile(loss=keras.losses.MeanSquaredLogarithmicError(), optimizer='adam', metrics=keras.losses.MeanSquaredLogarithmicError())\n",
        "NN_model.summary()"
      ],
      "metadata": {
        "id": "_qtakUtftwHD",
        "outputId": "35b7fd94-24bd-48e1-ea4f-b69e83505e9f",
        "colab": {
          "base_uri": "https://localhost:8080/"
        }
      },
      "execution_count": 70,
      "outputs": [
        {
          "output_type": "stream",
          "name": "stdout",
          "text": [
            "Model: \"sequential_8\"\n",
            "_________________________________________________________________\n",
            " Layer (type)                Output Shape              Param #   \n",
            "=================================================================\n",
            " dense_35 (Dense)            (None, 128)               1792      \n",
            "                                                                 \n",
            " dense_36 (Dense)            (None, 256)               33024     \n",
            "                                                                 \n",
            " dropout_6 (Dropout)         (None, 256)               0         \n",
            "                                                                 \n",
            " dense_37 (Dense)            (None, 256)               65792     \n",
            "                                                                 \n",
            " dropout_7 (Dropout)         (None, 256)               0         \n",
            "                                                                 \n",
            " dense_38 (Dense)            (None, 256)               65792     \n",
            "                                                                 \n",
            " dropout_8 (Dropout)         (None, 256)               0         \n",
            "                                                                 \n",
            " dense_39 (Dense)            (None, 1)                 257       \n",
            "                                                                 \n",
            "=================================================================\n",
            "Total params: 166,657\n",
            "Trainable params: 166,657\n",
            "Non-trainable params: 0\n",
            "_________________________________________________________________\n"
          ]
        }
      ]
    },
    {
      "cell_type": "code",
      "source": [
        "#set up early stopping and checkpoints\n",
        "es = EarlyStopping(monitor='val_loss', mode='min', verbose=1, patience=5)\n",
        "checkpoint_name = 'Weights-{epoch:03d}--{val_loss:.5f}.hdf5' \n",
        "checkpoint = ModelCheckpoint(checkpoint_name, monitor='val_mean_squared_logarithmic_error', verbose = 1, save_best_only = True, mode ='auto')\n",
        "callbacks_list = [checkpoint]"
      ],
      "metadata": {
        "id": "4Ij5s-4otsH5"
      },
      "execution_count": 71,
      "outputs": []
    },
    {
      "cell_type": "markdown",
      "source": [
        "Add early stop"
      ],
      "metadata": {
        "id": "OGGuEVIJuBwx"
      }
    },
    {
      "cell_type": "code",
      "source": [
        "#fit model\n",
        "history = NN_model.fit(x_values, y_values, epochs=20, batch_size=1024, validation_split = 0.25, callbacks=[callbacks_list, es])"
      ],
      "metadata": {
        "id": "F4H_BzmVt5Vs",
        "outputId": "595cd461-c5c5-4478-f8b6-cd8c474fbf85",
        "colab": {
          "base_uri": "https://localhost:8080/"
        }
      },
      "execution_count": 72,
      "outputs": [
        {
          "output_type": "stream",
          "name": "stdout",
          "text": [
            "Epoch 1/20\n",
            "1061/1062 [============================>.] - ETA: 0s - loss: 0.7519 - mean_squared_logarithmic_error: 0.7104\n",
            "Epoch 1: val_mean_squared_logarithmic_error improved from inf to 0.19246, saving model to Weights-001--0.22637.hdf5\n",
            "1062/1062 [==============================] - 45s 41ms/step - loss: 0.7515 - mean_squared_logarithmic_error: 0.7099 - val_loss: 0.2264 - val_mean_squared_logarithmic_error: 0.1925\n",
            "Epoch 2/20\n",
            "1061/1062 [============================>.] - ETA: 0s - loss: 0.2185 - mean_squared_logarithmic_error: 0.1892\n",
            "Epoch 2: val_mean_squared_logarithmic_error improved from 0.19246 to 0.18810, saving model to Weights-002--0.21283.hdf5\n",
            "1062/1062 [==============================] - 42s 39ms/step - loss: 0.2185 - mean_squared_logarithmic_error: 0.1892 - val_loss: 0.2128 - val_mean_squared_logarithmic_error: 0.1881\n",
            "Epoch 3/20\n",
            "1061/1062 [============================>.] - ETA: 0s - loss: 0.2076 - mean_squared_logarithmic_error: 0.1860\n",
            "Epoch 3: val_mean_squared_logarithmic_error improved from 0.18810 to 0.18715, saving model to Weights-003--0.20585.hdf5\n",
            "1062/1062 [==============================] - 43s 40ms/step - loss: 0.2076 - mean_squared_logarithmic_error: 0.1860 - val_loss: 0.2058 - val_mean_squared_logarithmic_error: 0.1872\n",
            "Epoch 4/20\n",
            "1061/1062 [============================>.] - ETA: 0s - loss: 0.2013 - mean_squared_logarithmic_error: 0.1850\n",
            "Epoch 4: val_mean_squared_logarithmic_error improved from 0.18715 to 0.18629, saving model to Weights-004--0.20054.hdf5\n",
            "1062/1062 [==============================] - 43s 40ms/step - loss: 0.2013 - mean_squared_logarithmic_error: 0.1850 - val_loss: 0.2005 - val_mean_squared_logarithmic_error: 0.1863\n",
            "Epoch 5/20\n",
            "1061/1062 [============================>.] - ETA: 0s - loss: 0.1973 - mean_squared_logarithmic_error: 0.1845\n",
            "Epoch 5: val_mean_squared_logarithmic_error did not improve from 0.18629\n",
            "1062/1062 [==============================] - 43s 40ms/step - loss: 0.1973 - mean_squared_logarithmic_error: 0.1845 - val_loss: 0.1990 - val_mean_squared_logarithmic_error: 0.1875\n",
            "Epoch 6/20\n",
            "1061/1062 [============================>.] - ETA: 0s - loss: 0.1948 - mean_squared_logarithmic_error: 0.1840\n",
            "Epoch 6: val_mean_squared_logarithmic_error did not improve from 0.18629\n",
            "1062/1062 [==============================] - 42s 40ms/step - loss: 0.1948 - mean_squared_logarithmic_error: 0.1840 - val_loss: 0.1975 - val_mean_squared_logarithmic_error: 0.1874\n",
            "Epoch 7/20\n",
            "1061/1062 [============================>.] - ETA: 0s - loss: 0.1931 - mean_squared_logarithmic_error: 0.1836\n",
            "Epoch 7: val_mean_squared_logarithmic_error did not improve from 0.18629\n",
            "1062/1062 [==============================] - 42s 39ms/step - loss: 0.1931 - mean_squared_logarithmic_error: 0.1836 - val_loss: 0.1981 - val_mean_squared_logarithmic_error: 0.1891\n",
            "Epoch 8/20\n",
            "1061/1062 [============================>.] - ETA: 0s - loss: 0.1919 - mean_squared_logarithmic_error: 0.1832\n",
            "Epoch 8: val_mean_squared_logarithmic_error did not improve from 0.18629\n",
            "1062/1062 [==============================] - 42s 40ms/step - loss: 0.1919 - mean_squared_logarithmic_error: 0.1831 - val_loss: 0.1966 - val_mean_squared_logarithmic_error: 0.1883\n",
            "Epoch 9/20\n",
            "1061/1062 [============================>.] - ETA: 0s - loss: 0.1911 - mean_squared_logarithmic_error: 0.1829\n",
            "Epoch 9: val_mean_squared_logarithmic_error did not improve from 0.18629\n",
            "1062/1062 [==============================] - 43s 40ms/step - loss: 0.1911 - mean_squared_logarithmic_error: 0.1829 - val_loss: 0.1986 - val_mean_squared_logarithmic_error: 0.1909\n",
            "Epoch 10/20\n",
            "1061/1062 [============================>.] - ETA: 0s - loss: 0.1902 - mean_squared_logarithmic_error: 0.1825\n",
            "Epoch 10: val_mean_squared_logarithmic_error did not improve from 0.18629\n",
            "1062/1062 [==============================] - 43s 40ms/step - loss: 0.1902 - mean_squared_logarithmic_error: 0.1825 - val_loss: 0.2000 - val_mean_squared_logarithmic_error: 0.1927\n",
            "Epoch 11/20\n",
            "1061/1062 [============================>.] - ETA: 0s - loss: 0.1895 - mean_squared_logarithmic_error: 0.1822\n",
            "Epoch 11: val_mean_squared_logarithmic_error did not improve from 0.18629\n",
            "1062/1062 [==============================] - 42s 39ms/step - loss: 0.1895 - mean_squared_logarithmic_error: 0.1822 - val_loss: 0.2004 - val_mean_squared_logarithmic_error: 0.1934\n",
            "Epoch 12/20\n",
            "1061/1062 [============================>.] - ETA: 0s - loss: 0.1888 - mean_squared_logarithmic_error: 0.1819\n",
            "Epoch 12: val_mean_squared_logarithmic_error did not improve from 0.18629\n",
            "1062/1062 [==============================] - 43s 40ms/step - loss: 0.1888 - mean_squared_logarithmic_error: 0.1818 - val_loss: 0.2020 - val_mean_squared_logarithmic_error: 0.1953\n",
            "Epoch 13/20\n",
            "1061/1062 [============================>.] - ETA: 0s - loss: 0.1881 - mean_squared_logarithmic_error: 0.1814\n",
            "Epoch 13: val_mean_squared_logarithmic_error did not improve from 0.18629\n",
            "1062/1062 [==============================] - 42s 40ms/step - loss: 0.1881 - mean_squared_logarithmic_error: 0.1814 - val_loss: 0.2026 - val_mean_squared_logarithmic_error: 0.1961\n",
            "Epoch 13: early stopping\n"
          ]
        }
      ]
    },
    {
      "cell_type": "code",
      "source": [
        "#plot the viz of train and val error\n",
        "plt.plot(history.history['mean_squared_logarithmic_error'])\n",
        "plt.plot(history.history['val_mean_squared_logarithmic_error'])\n",
        "plt.title('model loss')\n",
        "plt.ylabel('loss')\n",
        "plt.xlabel('epoch')\n",
        "plt.legend(['train', 'test'], loc='upper left')\n",
        "plt.show()"
      ],
      "metadata": {
        "id": "qmXGkrgWt9sp",
        "outputId": "dc3ed7b2-ae9e-48a1-cf0d-5b0111bffba9",
        "colab": {
          "base_uri": "https://localhost:8080/",
          "height": 295
        }
      },
      "execution_count": 73,
      "outputs": [
        {
          "output_type": "display_data",
          "data": {
            "text/plain": [
              "<Figure size 432x288 with 1 Axes>"
            ],
            "image/png": "[encoded data removed]"
          },
          "metadata": {
            "needs_background": "light"
          }
        }
      ]
    }
  ],
  "metadata": {
    "interpreter": {
      "hash": "c879c69e06522817e4609568d3627706e84f6e3919ca12ea4a6436e492954e1f"
    },
    "kernelspec": {
      "display_name": "Python 3.10.4 ('default')",
      "language": "python",
      "name": "python3"
    },
    "language_info": {
      "codemirror_mode": {
        "name": "ipython",
        "version": 3
      },
      "file_extension": ".py",
      "mimetype": "text/x-python",
      "name": "python",
      "nbconvert_exporter": "python",
      "pygments_lexer": "ipython3",
      "version": "3.10.4"
    },
    "orig_nbformat": 4,
    "colab": {
      "name": "2_Training.ipynb",
      "provenance": []
    },
    "accelerator": "GPU"
  },
  "nbformat": 4,
  "nbformat_minor": 0
}